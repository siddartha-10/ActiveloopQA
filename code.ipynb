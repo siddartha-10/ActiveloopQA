{
 "cells": [
  {
   "cell_type": "code",
   "execution_count": 36,
   "metadata": {},
   "outputs": [],
   "source": [
    "from langchain.embeddings.openai import OpenAIEmbeddings\n",
    "from langchain.vectorstores import DeepLake\n",
    "from langchain.text_splitter import RecursiveCharacterTextSplitter\n",
    "from langchain import OpenAI \n",
    "from langchain.chains import RetrievalQA\n",
    "from langchain.llms import OpenAIChat\n",
    "from langchain.document_loaders import PyPDFLoader\n",
    "from langchain.chat_models import ChatOpenAI\n",
    "llm = ChatOpenAI(model=\"gpt-3.5-turbo\",temperature=0)"
   ]
  },
  {
   "cell_type": "code",
   "execution_count": 13,
   "metadata": {},
   "outputs": [],
   "source": [
    "import os\n",
    "from dotenv import load_dotenv\n",
    "\n",
    "# Load environment variables from the .env file\n",
    "load_dotenv()\n",
    "\n",
    "# Access the OpenAI key\n",
    "openai_key = os.getenv(\"OPENAI_API_KEY\")\n",
    "activeloop_key = os.getenv(\"ACTIVELOOP_TOKEN\")\n"
   ]
  },
  {
   "cell_type": "code",
   "execution_count": 15,
   "metadata": {},
   "outputs": [],
   "source": [
    "# Replace 'file_paths' with the paths to your local PDF files\n",
    "file_paths = [\n",
    "    \"manual\\'s.pdf\",\n",
    "    \"Operation and Maintenance Manual.pdf\",\n",
    "    \"Operations Manual.pdf\"\n",
    "]\n",
    "# Initialize an empty list to store all pages\n",
    "pages = []\n",
    "\n",
    "# Loop through each manual and load its pages\n",
    "for manual_path in file_paths:\n",
    "    loader = PyPDFLoader(manual_path)\n",
    "    pages1 = loader.load_and_split()\n",
    "    pages.extend(pages1)"
   ]
  },
  {
   "cell_type": "code",
   "execution_count": 17,
   "metadata": {},
   "outputs": [
    {
     "name": "stderr",
     "output_type": "stream",
     "text": [
      "Using embedding function is deprecated and will be removed in the future. Please use embedding instead.\n"
     ]
    },
    {
     "name": "stderr",
     "output_type": "stream",
     "text": [
      "Creating 197 embeddings in 1 batches of size 197:: 100%|██████████| 1/1 [00:03<00:00,  3.66s/it]"
     ]
    },
    {
     "name": "stdout",
     "output_type": "stream",
     "text": [
      "Dataset(path='/Users/siddartha/Desktop/github/ActiveloopQA/empty/', tensors=['text', 'metadata', 'embedding', 'id'])\n",
      "\n",
      "  tensor      htype       shape      dtype  compression\n",
      "  -------    -------     -------    -------  ------- \n",
      "   text       text      (197, 1)      str     None   \n",
      " metadata     json      (197, 1)      str     None   \n",
      " embedding  embedding  (197, 1536)  float32   None   \n",
      "    id        text      (197, 1)      str     None   \n"
     ]
    },
    {
     "name": "stderr",
     "output_type": "stream",
     "text": [
      "\n"
     ]
    },
    {
     "data": {
      "text/plain": [
       "['965b886e-92f8-11ee-85ac-7ae137960975',\n",
       " '965b890e-92f8-11ee-85ac-7ae137960975',\n",
       " '965b8936-92f8-11ee-85ac-7ae137960975',\n",
       " '965b8954-92f8-11ee-85ac-7ae137960975',\n",
       " '965b8972-92f8-11ee-85ac-7ae137960975',\n",
       " '965b8990-92f8-11ee-85ac-7ae137960975',\n",
       " '965b89a4-92f8-11ee-85ac-7ae137960975',\n",
       " '965b89c2-92f8-11ee-85ac-7ae137960975',\n",
       " '965b89e0-92f8-11ee-85ac-7ae137960975',\n",
       " '965b89fe-92f8-11ee-85ac-7ae137960975',\n",
       " '965b8a1c-92f8-11ee-85ac-7ae137960975',\n",
       " '965b8a30-92f8-11ee-85ac-7ae137960975',\n",
       " '965b8a4e-92f8-11ee-85ac-7ae137960975',\n",
       " '965b8a6c-92f8-11ee-85ac-7ae137960975',\n",
       " '965b8a80-92f8-11ee-85ac-7ae137960975',\n",
       " '965b8a9e-92f8-11ee-85ac-7ae137960975',\n",
       " '965b8abc-92f8-11ee-85ac-7ae137960975',\n",
       " '965b8ad0-92f8-11ee-85ac-7ae137960975',\n",
       " '965b8aee-92f8-11ee-85ac-7ae137960975',\n",
       " '965b8b0c-92f8-11ee-85ac-7ae137960975',\n",
       " '965b8b20-92f8-11ee-85ac-7ae137960975',\n",
       " '965b8b3e-92f8-11ee-85ac-7ae137960975',\n",
       " '965b8b5c-92f8-11ee-85ac-7ae137960975',\n",
       " '965b8b70-92f8-11ee-85ac-7ae137960975',\n",
       " '965b8b8e-92f8-11ee-85ac-7ae137960975',\n",
       " '965b8bac-92f8-11ee-85ac-7ae137960975',\n",
       " '965b8bca-92f8-11ee-85ac-7ae137960975',\n",
       " '965b8bde-92f8-11ee-85ac-7ae137960975',\n",
       " '965b8bfc-92f8-11ee-85ac-7ae137960975',\n",
       " '965b8c1a-92f8-11ee-85ac-7ae137960975',\n",
       " '965b8c2e-92f8-11ee-85ac-7ae137960975',\n",
       " '965b8c4c-92f8-11ee-85ac-7ae137960975',\n",
       " '965b8c6a-92f8-11ee-85ac-7ae137960975',\n",
       " '965b8c7e-92f8-11ee-85ac-7ae137960975',\n",
       " '965b8c9c-92f8-11ee-85ac-7ae137960975',\n",
       " '965b8cba-92f8-11ee-85ac-7ae137960975',\n",
       " '965b8cce-92f8-11ee-85ac-7ae137960975',\n",
       " '965b8cec-92f8-11ee-85ac-7ae137960975',\n",
       " '965b8d00-92f8-11ee-85ac-7ae137960975',\n",
       " '965b8d1e-92f8-11ee-85ac-7ae137960975',\n",
       " '965b8d3c-92f8-11ee-85ac-7ae137960975',\n",
       " '965b8d5a-92f8-11ee-85ac-7ae137960975',\n",
       " '965b8d6e-92f8-11ee-85ac-7ae137960975',\n",
       " '965b8d8c-92f8-11ee-85ac-7ae137960975',\n",
       " '965b8da0-92f8-11ee-85ac-7ae137960975',\n",
       " '965b8dbe-92f8-11ee-85ac-7ae137960975',\n",
       " '965b8ddc-92f8-11ee-85ac-7ae137960975',\n",
       " '965b8df0-92f8-11ee-85ac-7ae137960975',\n",
       " '965b8e0e-92f8-11ee-85ac-7ae137960975',\n",
       " '965b8e2c-92f8-11ee-85ac-7ae137960975',\n",
       " '965b8efe-92f8-11ee-85ac-7ae137960975',\n",
       " '965b8f1c-92f8-11ee-85ac-7ae137960975',\n",
       " '965b8f3a-92f8-11ee-85ac-7ae137960975',\n",
       " '965b8f4e-92f8-11ee-85ac-7ae137960975',\n",
       " '965b8f6c-92f8-11ee-85ac-7ae137960975',\n",
       " '965b8f8a-92f8-11ee-85ac-7ae137960975',\n",
       " '965b8f9e-92f8-11ee-85ac-7ae137960975',\n",
       " '965b8fbc-92f8-11ee-85ac-7ae137960975',\n",
       " '965b8fda-92f8-11ee-85ac-7ae137960975',\n",
       " '965b8fee-92f8-11ee-85ac-7ae137960975',\n",
       " '965b900c-92f8-11ee-85ac-7ae137960975',\n",
       " '965b9020-92f8-11ee-85ac-7ae137960975',\n",
       " '965b903e-92f8-11ee-85ac-7ae137960975',\n",
       " '965b905c-92f8-11ee-85ac-7ae137960975',\n",
       " '965b9070-92f8-11ee-85ac-7ae137960975',\n",
       " '965b908e-92f8-11ee-85ac-7ae137960975',\n",
       " '965b90ac-92f8-11ee-85ac-7ae137960975',\n",
       " '965b90ca-92f8-11ee-85ac-7ae137960975',\n",
       " '965b90de-92f8-11ee-85ac-7ae137960975',\n",
       " '965b90fc-92f8-11ee-85ac-7ae137960975',\n",
       " '965b911a-92f8-11ee-85ac-7ae137960975',\n",
       " '965b9138-92f8-11ee-85ac-7ae137960975',\n",
       " '965b914c-92f8-11ee-85ac-7ae137960975',\n",
       " '965b916a-92f8-11ee-85ac-7ae137960975',\n",
       " '965b9188-92f8-11ee-85ac-7ae137960975',\n",
       " '965b919c-92f8-11ee-85ac-7ae137960975',\n",
       " '965b91ba-92f8-11ee-85ac-7ae137960975',\n",
       " '965b91d8-92f8-11ee-85ac-7ae137960975',\n",
       " '965b91f6-92f8-11ee-85ac-7ae137960975',\n",
       " '965b920a-92f8-11ee-85ac-7ae137960975',\n",
       " '965b9228-92f8-11ee-85ac-7ae137960975',\n",
       " '965b9246-92f8-11ee-85ac-7ae137960975',\n",
       " '965b92d2-92f8-11ee-85ac-7ae137960975',\n",
       " '965b92f0-92f8-11ee-85ac-7ae137960975',\n",
       " '965b930e-92f8-11ee-85ac-7ae137960975',\n",
       " '965b9322-92f8-11ee-85ac-7ae137960975',\n",
       " '965b9340-92f8-11ee-85ac-7ae137960975',\n",
       " '965b935e-92f8-11ee-85ac-7ae137960975',\n",
       " '965b9372-92f8-11ee-85ac-7ae137960975',\n",
       " '965b9390-92f8-11ee-85ac-7ae137960975',\n",
       " '965b93ae-92f8-11ee-85ac-7ae137960975',\n",
       " '965b93c2-92f8-11ee-85ac-7ae137960975',\n",
       " '965b93e0-92f8-11ee-85ac-7ae137960975',\n",
       " '965b93fe-92f8-11ee-85ac-7ae137960975',\n",
       " '965b941c-92f8-11ee-85ac-7ae137960975',\n",
       " '965b9430-92f8-11ee-85ac-7ae137960975',\n",
       " '965b944e-92f8-11ee-85ac-7ae137960975',\n",
       " '965b946c-92f8-11ee-85ac-7ae137960975',\n",
       " '965b9480-92f8-11ee-85ac-7ae137960975',\n",
       " '965b949e-92f8-11ee-85ac-7ae137960975',\n",
       " '965b94bc-92f8-11ee-85ac-7ae137960975',\n",
       " '965b94d0-92f8-11ee-85ac-7ae137960975',\n",
       " '965b94ee-92f8-11ee-85ac-7ae137960975',\n",
       " '965b9502-92f8-11ee-85ac-7ae137960975',\n",
       " '965b9520-92f8-11ee-85ac-7ae137960975',\n",
       " '965b953e-92f8-11ee-85ac-7ae137960975',\n",
       " '965b9552-92f8-11ee-85ac-7ae137960975',\n",
       " '965b9570-92f8-11ee-85ac-7ae137960975',\n",
       " '965b958e-92f8-11ee-85ac-7ae137960975',\n",
       " '965b95ac-92f8-11ee-85ac-7ae137960975',\n",
       " '965b95c0-92f8-11ee-85ac-7ae137960975',\n",
       " '965b95de-92f8-11ee-85ac-7ae137960975',\n",
       " '965b95fc-92f8-11ee-85ac-7ae137960975',\n",
       " '965b9610-92f8-11ee-85ac-7ae137960975',\n",
       " '965b962e-92f8-11ee-85ac-7ae137960975',\n",
       " '965b964c-92f8-11ee-85ac-7ae137960975',\n",
       " '965b9660-92f8-11ee-85ac-7ae137960975',\n",
       " '965b967e-92f8-11ee-85ac-7ae137960975',\n",
       " '965b969c-92f8-11ee-85ac-7ae137960975',\n",
       " '965b96b0-92f8-11ee-85ac-7ae137960975',\n",
       " '965b96ce-92f8-11ee-85ac-7ae137960975',\n",
       " '965b96ec-92f8-11ee-85ac-7ae137960975',\n",
       " '965b9700-92f8-11ee-85ac-7ae137960975',\n",
       " '965b971e-92f8-11ee-85ac-7ae137960975',\n",
       " '965b973c-92f8-11ee-85ac-7ae137960975',\n",
       " '965b975a-92f8-11ee-85ac-7ae137960975',\n",
       " '965b976e-92f8-11ee-85ac-7ae137960975',\n",
       " '965b978c-92f8-11ee-85ac-7ae137960975',\n",
       " '965b97a0-92f8-11ee-85ac-7ae137960975',\n",
       " '965b97c8-92f8-11ee-85ac-7ae137960975',\n",
       " '965b97dc-92f8-11ee-85ac-7ae137960975',\n",
       " '965b97fa-92f8-11ee-85ac-7ae137960975',\n",
       " '965b9818-92f8-11ee-85ac-7ae137960975',\n",
       " '965b982c-92f8-11ee-85ac-7ae137960975',\n",
       " '965b984a-92f8-11ee-85ac-7ae137960975',\n",
       " '965b985e-92f8-11ee-85ac-7ae137960975',\n",
       " '965b987c-92f8-11ee-85ac-7ae137960975',\n",
       " '965b989a-92f8-11ee-85ac-7ae137960975',\n",
       " '965b98ae-92f8-11ee-85ac-7ae137960975',\n",
       " '965b98cc-92f8-11ee-85ac-7ae137960975',\n",
       " '965b98ea-92f8-11ee-85ac-7ae137960975',\n",
       " '965b98fe-92f8-11ee-85ac-7ae137960975',\n",
       " '965b991c-92f8-11ee-85ac-7ae137960975',\n",
       " '965b9930-92f8-11ee-85ac-7ae137960975',\n",
       " '965b994e-92f8-11ee-85ac-7ae137960975',\n",
       " '965b996c-92f8-11ee-85ac-7ae137960975',\n",
       " '965b9980-92f8-11ee-85ac-7ae137960975',\n",
       " '965b999e-92f8-11ee-85ac-7ae137960975',\n",
       " '965b99bc-92f8-11ee-85ac-7ae137960975',\n",
       " '965b99d0-92f8-11ee-85ac-7ae137960975',\n",
       " '965b99ee-92f8-11ee-85ac-7ae137960975',\n",
       " '965b9a0c-92f8-11ee-85ac-7ae137960975',\n",
       " '965b9a20-92f8-11ee-85ac-7ae137960975',\n",
       " '965b9a3e-92f8-11ee-85ac-7ae137960975',\n",
       " '965b9a5c-92f8-11ee-85ac-7ae137960975',\n",
       " '965b9a70-92f8-11ee-85ac-7ae137960975',\n",
       " '965b9a8e-92f8-11ee-85ac-7ae137960975',\n",
       " '965b9aac-92f8-11ee-85ac-7ae137960975',\n",
       " '965b9ac0-92f8-11ee-85ac-7ae137960975',\n",
       " '965b9ade-92f8-11ee-85ac-7ae137960975',\n",
       " '965b9af2-92f8-11ee-85ac-7ae137960975',\n",
       " '965b9b10-92f8-11ee-85ac-7ae137960975',\n",
       " '965b9b2e-92f8-11ee-85ac-7ae137960975',\n",
       " '965b9b42-92f8-11ee-85ac-7ae137960975',\n",
       " '965b9b60-92f8-11ee-85ac-7ae137960975',\n",
       " '965b9b7e-92f8-11ee-85ac-7ae137960975',\n",
       " '965b9b92-92f8-11ee-85ac-7ae137960975',\n",
       " '965b9bb0-92f8-11ee-85ac-7ae137960975',\n",
       " '965b9bce-92f8-11ee-85ac-7ae137960975',\n",
       " '965b9be2-92f8-11ee-85ac-7ae137960975',\n",
       " '965b9c00-92f8-11ee-85ac-7ae137960975',\n",
       " '965b9c14-92f8-11ee-85ac-7ae137960975',\n",
       " '965b9c32-92f8-11ee-85ac-7ae137960975',\n",
       " '965b9c50-92f8-11ee-85ac-7ae137960975',\n",
       " '965b9c6e-92f8-11ee-85ac-7ae137960975',\n",
       " '965b9c8c-92f8-11ee-85ac-7ae137960975',\n",
       " '965b9ca0-92f8-11ee-85ac-7ae137960975',\n",
       " '965b9cbe-92f8-11ee-85ac-7ae137960975',\n",
       " '965b9cdc-92f8-11ee-85ac-7ae137960975',\n",
       " '965b9cf0-92f8-11ee-85ac-7ae137960975',\n",
       " '965b9d0e-92f8-11ee-85ac-7ae137960975',\n",
       " '965b9d2c-92f8-11ee-85ac-7ae137960975',\n",
       " '965b9d40-92f8-11ee-85ac-7ae137960975',\n",
       " '965b9d5e-92f8-11ee-85ac-7ae137960975',\n",
       " '965b9d72-92f8-11ee-85ac-7ae137960975',\n",
       " '965b9d90-92f8-11ee-85ac-7ae137960975',\n",
       " '965b9dae-92f8-11ee-85ac-7ae137960975',\n",
       " '965b9dc2-92f8-11ee-85ac-7ae137960975',\n",
       " '965b9de0-92f8-11ee-85ac-7ae137960975',\n",
       " '965b9dfe-92f8-11ee-85ac-7ae137960975',\n",
       " '965b9e12-92f8-11ee-85ac-7ae137960975',\n",
       " '965b9e30-92f8-11ee-85ac-7ae137960975',\n",
       " '965b9e4e-92f8-11ee-85ac-7ae137960975',\n",
       " '965b9e62-92f8-11ee-85ac-7ae137960975',\n",
       " '965b9e80-92f8-11ee-85ac-7ae137960975',\n",
       " '965b9e9e-92f8-11ee-85ac-7ae137960975',\n",
       " '965b9eb2-92f8-11ee-85ac-7ae137960975']"
      ]
     },
     "execution_count": 17,
     "metadata": {},
     "output_type": "execute_result"
    }
   ],
   "source": [
    "text_splitter = CharacterTextSplitter(chunk_size=1000, chunk_overlap=0)\n",
    "texts = text_splitter.split_documents(pages)\n",
    "\n",
    "embeddings = OpenAIEmbeddings()\n",
    "\n",
    "db = DeepLake(dataset_path=\"/Users/siddartha/Desktop/github/ActiveloopQA/empty/\", embedding_function=embeddings, token=os.environ['ACTIVELOOP_TOKEN'])\n",
    "db.add_documents(texts)"
   ]
  },
  {
   "cell_type": "code",
   "execution_count": 27,
   "metadata": {},
   "outputs": [],
   "source": [
    "qa = RetrievalQA.from_chain_type(llm=llm, chain_type='stuff', retriever=db.as_retriever())"
   ]
  },
  {
   "cell_type": "code",
   "execution_count": 28,
   "metadata": {},
   "outputs": [
    {
     "data": {
      "text/plain": [
       "'The information provided does not specify how to turn on the test bed.'"
      ]
     },
     "execution_count": 28,
     "metadata": {},
     "output_type": "execute_result"
    }
   ],
   "source": [
    "qa.run(\"How to turn on the test bed?\")"
   ]
  },
  {
   "cell_type": "code",
   "execution_count": 29,
   "metadata": {},
   "outputs": [
    {
     "data": {
      "text/plain": [
       "\"Based on the provided context, it is not explicitly mentioned how many stations are present in the test bed. Therefore, I don't know the exact number of stations in the test bed.\""
      ]
     },
     "execution_count": 29,
     "metadata": {},
     "output_type": "execute_result"
    }
   ],
   "source": [
    "qa.run(\"How many stations are present in the test bed?\")"
   ]
  },
  {
   "cell_type": "markdown",
   "metadata": {},
   "source": [
    "Trying Different Embeding Model"
   ]
  },
  {
   "cell_type": "code",
   "execution_count": 35,
   "metadata": {},
   "outputs": [
    {
     "data": {
      "application/vnd.jupyter.widget-view+json": {
       "model_id": "2d45d15655ec40e0b8008a209d9d9612",
       "version_major": 2,
       "version_minor": 0
      },
      "text/plain": [
       "Downloading .gitattributes:   0%|          | 0.00/1.52k [00:00<?, ?B/s]"
      ]
     },
     "metadata": {},
     "output_type": "display_data"
    },
    {
     "data": {
      "application/vnd.jupyter.widget-view+json": {
       "model_id": "07dd152f030143dc8281b6181cf29a6a",
       "version_major": 2,
       "version_minor": 0
      },
      "text/plain": [
       "Downloading 1_Pooling/config.json:   0%|          | 0.00/191 [00:00<?, ?B/s]"
      ]
     },
     "metadata": {},
     "output_type": "display_data"
    },
    {
     "data": {
      "application/vnd.jupyter.widget-view+json": {
       "model_id": "cd9248cb974c44d9aabc1ae8716a5640",
       "version_major": 2,
       "version_minor": 0
      },
      "text/plain": [
       "Downloading README.md:   0%|          | 0.00/90.3k [00:00<?, ?B/s]"
      ]
     },
     "metadata": {},
     "output_type": "display_data"
    },
    {
     "data": {
      "application/vnd.jupyter.widget-view+json": {
       "model_id": "5015d764adc4498aa31758b33fcbdcc8",
       "version_major": 2,
       "version_minor": 0
      },
      "text/plain": [
       "Downloading config.json:   0%|          | 0.00/779 [00:00<?, ?B/s]"
      ]
     },
     "metadata": {},
     "output_type": "display_data"
    },
    {
     "data": {
      "application/vnd.jupyter.widget-view+json": {
       "model_id": "a6bf64a57ebc475da63de1605e25dd7c",
       "version_major": 2,
       "version_minor": 0
      },
      "text/plain": [
       "Downloading (…)ce_transformers.json:   0%|          | 0.00/124 [00:00<?, ?B/s]"
      ]
     },
     "metadata": {},
     "output_type": "display_data"
    },
    {
     "data": {
      "application/vnd.jupyter.widget-view+json": {
       "model_id": "a9002cdf218a46c7b27936879ba003ea",
       "version_major": 2,
       "version_minor": 0
      },
      "text/plain": [
       "Downloading pytorch_model.bin:   0%|          | 0.00/1.34G [00:00<?, ?B/s]"
      ]
     },
     "metadata": {},
     "output_type": "display_data"
    },
    {
     "data": {
      "application/vnd.jupyter.widget-view+json": {
       "model_id": "0e1e1c1c13f64dc9b2873e14d16b911f",
       "version_major": 2,
       "version_minor": 0
      },
      "text/plain": [
       "Downloading (…)nce_bert_config.json:   0%|          | 0.00/52.0 [00:00<?, ?B/s]"
      ]
     },
     "metadata": {},
     "output_type": "display_data"
    },
    {
     "data": {
      "application/vnd.jupyter.widget-view+json": {
       "model_id": "23c09a1e93f44fb5afca16a88f9d3621",
       "version_major": 2,
       "version_minor": 0
      },
      "text/plain": [
       "Downloading (…)cial_tokens_map.json:   0%|          | 0.00/125 [00:00<?, ?B/s]"
      ]
     },
     "metadata": {},
     "output_type": "display_data"
    },
    {
     "data": {
      "application/vnd.jupyter.widget-view+json": {
       "model_id": "e8513b0b6a414a1da9aa928923f8d81f",
       "version_major": 2,
       "version_minor": 0
      },
      "text/plain": [
       "Downloading tokenizer.json:   0%|          | 0.00/711k [00:00<?, ?B/s]"
      ]
     },
     "metadata": {},
     "output_type": "display_data"
    },
    {
     "data": {
      "application/vnd.jupyter.widget-view+json": {
       "model_id": "83fbc3a9ce62456a8468961fea13802e",
       "version_major": 2,
       "version_minor": 0
      },
      "text/plain": [
       "Downloading tokenizer_config.json:   0%|          | 0.00/366 [00:00<?, ?B/s]"
      ]
     },
     "metadata": {},
     "output_type": "display_data"
    },
    {
     "data": {
      "application/vnd.jupyter.widget-view+json": {
       "model_id": "f03c12724d9948e6905c61780e4a2390",
       "version_major": 2,
       "version_minor": 0
      },
      "text/plain": [
       "Downloading vocab.txt:   0%|          | 0.00/232k [00:00<?, ?B/s]"
      ]
     },
     "metadata": {},
     "output_type": "display_data"
    },
    {
     "data": {
      "application/vnd.jupyter.widget-view+json": {
       "model_id": "7ca54bffbb5a481a871a1f594c982021",
       "version_major": 2,
       "version_minor": 0
      },
      "text/plain": [
       "Downloading modules.json:   0%|          | 0.00/349 [00:00<?, ?B/s]"
      ]
     },
     "metadata": {},
     "output_type": "display_data"
    }
   ],
   "source": [
    "# from llama_index import ServiceContext\n",
    "\n",
    "# service_context = ServiceContext.from_defaults(embed_model=\"local:BAAI/bge-small-en-v1.5\")\n",
    "from langchain.embeddings import HuggingFaceEmbeddings\n",
    "embeddings = HuggingFaceEmbeddings(model_name=\"BAAI/bge-large-en-v1.5\")"
   ]
  },
  {
   "cell_type": "code",
   "execution_count": 37,
   "metadata": {},
   "outputs": [
    {
     "name": "stderr",
     "output_type": "stream",
     "text": [
      "Creating 403 embeddings in 1 batches of size 403:: 100%|██████████| 1/1 [02:30<00:00, 150.28s/it]"
     ]
    },
    {
     "name": "stdout",
     "output_type": "stream",
     "text": [
      "Dataset(path='/Users/siddartha/Desktop/github/ActiveloopQA/Baai_embeddings/', tensors=['text', 'metadata', 'embedding', 'id'])\n",
      "\n",
      "  tensor      htype       shape      dtype  compression\n",
      "  -------    -------     -------    -------  ------- \n",
      "   text       text      (403, 1)      str     None   \n",
      " metadata     json      (403, 1)      str     None   \n",
      " embedding  embedding  (403, 1024)  float32   None   \n",
      "    id        text      (403, 1)      str     None   \n"
     ]
    },
    {
     "name": "stderr",
     "output_type": "stream",
     "text": [
      "\n"
     ]
    },
    {
     "data": {
      "text/plain": [
       "['1c1e4518-92fe-11ee-85ac-7ae137960975',\n",
       " '1c1e472a-92fe-11ee-85ac-7ae137960975',\n",
       " '1c1e4752-92fe-11ee-85ac-7ae137960975',\n",
       " '1c1e477a-92fe-11ee-85ac-7ae137960975',\n",
       " '1c1e4798-92fe-11ee-85ac-7ae137960975',\n",
       " '1c1e47b6-92fe-11ee-85ac-7ae137960975',\n",
       " '1c1e47d4-92fe-11ee-85ac-7ae137960975',\n",
       " '1c1e47f2-92fe-11ee-85ac-7ae137960975',\n",
       " '1c1e4810-92fe-11ee-85ac-7ae137960975',\n",
       " '1c1e4838-92fe-11ee-85ac-7ae137960975',\n",
       " '1c1e4856-92fe-11ee-85ac-7ae137960975',\n",
       " '1c1e486a-92fe-11ee-85ac-7ae137960975',\n",
       " '1c1e4888-92fe-11ee-85ac-7ae137960975',\n",
       " '1c1e48a6-92fe-11ee-85ac-7ae137960975',\n",
       " '1c1e48c4-92fe-11ee-85ac-7ae137960975',\n",
       " '1c1e48e2-92fe-11ee-85ac-7ae137960975',\n",
       " '1c1e4900-92fe-11ee-85ac-7ae137960975',\n",
       " '1c1e4928-92fe-11ee-85ac-7ae137960975',\n",
       " '1c1e4946-92fe-11ee-85ac-7ae137960975',\n",
       " '1c1e495a-92fe-11ee-85ac-7ae137960975',\n",
       " '1c1e4978-92fe-11ee-85ac-7ae137960975',\n",
       " '1c1e4996-92fe-11ee-85ac-7ae137960975',\n",
       " '1c1e49b4-92fe-11ee-85ac-7ae137960975',\n",
       " '1c1e49d2-92fe-11ee-85ac-7ae137960975',\n",
       " '1c1e49f0-92fe-11ee-85ac-7ae137960975',\n",
       " '1c1e4a0e-92fe-11ee-85ac-7ae137960975',\n",
       " '1c1e4a2c-92fe-11ee-85ac-7ae137960975',\n",
       " '1c1e4a4a-92fe-11ee-85ac-7ae137960975',\n",
       " '1c1e4a68-92fe-11ee-85ac-7ae137960975',\n",
       " '1c1e4a86-92fe-11ee-85ac-7ae137960975',\n",
       " '1c1e4b12-92fe-11ee-85ac-7ae137960975',\n",
       " '1c1e4b30-92fe-11ee-85ac-7ae137960975',\n",
       " '1c1e4b58-92fe-11ee-85ac-7ae137960975',\n",
       " '1c1e4b76-92fe-11ee-85ac-7ae137960975',\n",
       " '1c1e4b94-92fe-11ee-85ac-7ae137960975',\n",
       " '1c1e4bb2-92fe-11ee-85ac-7ae137960975',\n",
       " '1c1e4bd0-92fe-11ee-85ac-7ae137960975',\n",
       " '1c1e4bee-92fe-11ee-85ac-7ae137960975',\n",
       " '1c1e4c0c-92fe-11ee-85ac-7ae137960975',\n",
       " '1c1e4c20-92fe-11ee-85ac-7ae137960975',\n",
       " '1c1e4c3e-92fe-11ee-85ac-7ae137960975',\n",
       " '1c1e4c66-92fe-11ee-85ac-7ae137960975',\n",
       " '1c1e4c84-92fe-11ee-85ac-7ae137960975',\n",
       " '1c1e4ca2-92fe-11ee-85ac-7ae137960975',\n",
       " '1c1e4cc0-92fe-11ee-85ac-7ae137960975',\n",
       " '1c1e4cde-92fe-11ee-85ac-7ae137960975',\n",
       " '1c1e4cf2-92fe-11ee-85ac-7ae137960975',\n",
       " '1c1e4d10-92fe-11ee-85ac-7ae137960975',\n",
       " '1c1e4d2e-92fe-11ee-85ac-7ae137960975',\n",
       " '1c1e4d4c-92fe-11ee-85ac-7ae137960975',\n",
       " '1c1e4d6a-92fe-11ee-85ac-7ae137960975',\n",
       " '1c1e4d88-92fe-11ee-85ac-7ae137960975',\n",
       " '1c1e4da6-92fe-11ee-85ac-7ae137960975',\n",
       " '1c1e4dc4-92fe-11ee-85ac-7ae137960975',\n",
       " '1c1e4de2-92fe-11ee-85ac-7ae137960975',\n",
       " '1c1e4e00-92fe-11ee-85ac-7ae137960975',\n",
       " '1c1e4e1e-92fe-11ee-85ac-7ae137960975',\n",
       " '1c1e4e3c-92fe-11ee-85ac-7ae137960975',\n",
       " '1c1e4e5a-92fe-11ee-85ac-7ae137960975',\n",
       " '1c1e4e78-92fe-11ee-85ac-7ae137960975',\n",
       " '1c1e4e96-92fe-11ee-85ac-7ae137960975',\n",
       " '1c1e4eb4-92fe-11ee-85ac-7ae137960975',\n",
       " '1c1e4ec8-92fe-11ee-85ac-7ae137960975',\n",
       " '1c1e4ee6-92fe-11ee-85ac-7ae137960975',\n",
       " '1c1e4f04-92fe-11ee-85ac-7ae137960975',\n",
       " '1c1e4f36-92fe-11ee-85ac-7ae137960975',\n",
       " '1c1e4f4a-92fe-11ee-85ac-7ae137960975',\n",
       " '1c1e4f68-92fe-11ee-85ac-7ae137960975',\n",
       " '1c1e4f86-92fe-11ee-85ac-7ae137960975',\n",
       " '1c1e4fa4-92fe-11ee-85ac-7ae137960975',\n",
       " '1c1e4fc2-92fe-11ee-85ac-7ae137960975',\n",
       " '1c1e4fe0-92fe-11ee-85ac-7ae137960975',\n",
       " '1c1e4ffe-92fe-11ee-85ac-7ae137960975',\n",
       " '1c1e501c-92fe-11ee-85ac-7ae137960975',\n",
       " '1c1e503a-92fe-11ee-85ac-7ae137960975',\n",
       " '1c1e5058-92fe-11ee-85ac-7ae137960975',\n",
       " '1c1e5076-92fe-11ee-85ac-7ae137960975',\n",
       " '1c1e509e-92fe-11ee-85ac-7ae137960975',\n",
       " '1c1e50bc-92fe-11ee-85ac-7ae137960975',\n",
       " '1c1e50da-92fe-11ee-85ac-7ae137960975',\n",
       " '1c1e50f8-92fe-11ee-85ac-7ae137960975',\n",
       " '1c1e510c-92fe-11ee-85ac-7ae137960975',\n",
       " '1c1e512a-92fe-11ee-85ac-7ae137960975',\n",
       " '1c1e5148-92fe-11ee-85ac-7ae137960975',\n",
       " '1c1e5166-92fe-11ee-85ac-7ae137960975',\n",
       " '1c1e5184-92fe-11ee-85ac-7ae137960975',\n",
       " '1c1e51a2-92fe-11ee-85ac-7ae137960975',\n",
       " '1c1e51c0-92fe-11ee-85ac-7ae137960975',\n",
       " '1c1e51de-92fe-11ee-85ac-7ae137960975',\n",
       " '1c1e51fc-92fe-11ee-85ac-7ae137960975',\n",
       " '1c1e5210-92fe-11ee-85ac-7ae137960975',\n",
       " '1c1e522e-92fe-11ee-85ac-7ae137960975',\n",
       " '1c1e524c-92fe-11ee-85ac-7ae137960975',\n",
       " '1c1e5274-92fe-11ee-85ac-7ae137960975',\n",
       " '1c1e5292-92fe-11ee-85ac-7ae137960975',\n",
       " '1c1e52b0-92fe-11ee-85ac-7ae137960975',\n",
       " '1c1e52ce-92fe-11ee-85ac-7ae137960975',\n",
       " '1c1e52e2-92fe-11ee-85ac-7ae137960975',\n",
       " '1c1e5300-92fe-11ee-85ac-7ae137960975',\n",
       " '1c1e531e-92fe-11ee-85ac-7ae137960975',\n",
       " '1c1e533c-92fe-11ee-85ac-7ae137960975',\n",
       " '1c1e535a-92fe-11ee-85ac-7ae137960975',\n",
       " '1c1e5378-92fe-11ee-85ac-7ae137960975',\n",
       " '1c1e5396-92fe-11ee-85ac-7ae137960975',\n",
       " '1c1e53b4-92fe-11ee-85ac-7ae137960975',\n",
       " '1c1e53d2-92fe-11ee-85ac-7ae137960975',\n",
       " '1c1e53e6-92fe-11ee-85ac-7ae137960975',\n",
       " '1c1e5404-92fe-11ee-85ac-7ae137960975',\n",
       " '1c1e5422-92fe-11ee-85ac-7ae137960975',\n",
       " '1c1e544a-92fe-11ee-85ac-7ae137960975',\n",
       " '1c1e5468-92fe-11ee-85ac-7ae137960975',\n",
       " '1c1e5486-92fe-11ee-85ac-7ae137960975',\n",
       " '1c1e5576-92fe-11ee-85ac-7ae137960975',\n",
       " '1c1e5594-92fe-11ee-85ac-7ae137960975',\n",
       " '1c1e55b2-92fe-11ee-85ac-7ae137960975',\n",
       " '1c1e55d0-92fe-11ee-85ac-7ae137960975',\n",
       " '1c1e55ee-92fe-11ee-85ac-7ae137960975',\n",
       " '1c1e560c-92fe-11ee-85ac-7ae137960975',\n",
       " '1c1e562a-92fe-11ee-85ac-7ae137960975',\n",
       " '1c1e5648-92fe-11ee-85ac-7ae137960975',\n",
       " '1c1e5666-92fe-11ee-85ac-7ae137960975',\n",
       " '1c1e5684-92fe-11ee-85ac-7ae137960975',\n",
       " '1c1e56a2-92fe-11ee-85ac-7ae137960975',\n",
       " '1c1e56c0-92fe-11ee-85ac-7ae137960975',\n",
       " '1c1e56de-92fe-11ee-85ac-7ae137960975',\n",
       " '1c1e56fc-92fe-11ee-85ac-7ae137960975',\n",
       " '1c1e571a-92fe-11ee-85ac-7ae137960975',\n",
       " '1c1e5738-92fe-11ee-85ac-7ae137960975',\n",
       " '1c1e5756-92fe-11ee-85ac-7ae137960975',\n",
       " '1c1e577e-92fe-11ee-85ac-7ae137960975',\n",
       " '1c1e579c-92fe-11ee-85ac-7ae137960975',\n",
       " '1c1e57b0-92fe-11ee-85ac-7ae137960975',\n",
       " '1c1e57ce-92fe-11ee-85ac-7ae137960975',\n",
       " '1c1e57ec-92fe-11ee-85ac-7ae137960975',\n",
       " '1c1e580a-92fe-11ee-85ac-7ae137960975',\n",
       " '1c1e5828-92fe-11ee-85ac-7ae137960975',\n",
       " '1c1e5846-92fe-11ee-85ac-7ae137960975',\n",
       " '1c1e5864-92fe-11ee-85ac-7ae137960975',\n",
       " '1c1e5882-92fe-11ee-85ac-7ae137960975',\n",
       " '1c1e58a0-92fe-11ee-85ac-7ae137960975',\n",
       " '1c1e58be-92fe-11ee-85ac-7ae137960975',\n",
       " '1c1e58d2-92fe-11ee-85ac-7ae137960975',\n",
       " '1c1e58f0-92fe-11ee-85ac-7ae137960975',\n",
       " '1c1e590e-92fe-11ee-85ac-7ae137960975',\n",
       " '1c1e592c-92fe-11ee-85ac-7ae137960975',\n",
       " '1c1e594a-92fe-11ee-85ac-7ae137960975',\n",
       " '1c1e5968-92fe-11ee-85ac-7ae137960975',\n",
       " '1c1e5986-92fe-11ee-85ac-7ae137960975',\n",
       " '1c1e599a-92fe-11ee-85ac-7ae137960975',\n",
       " '1c1e59c2-92fe-11ee-85ac-7ae137960975',\n",
       " '1c1e59d6-92fe-11ee-85ac-7ae137960975',\n",
       " '1c1e59f4-92fe-11ee-85ac-7ae137960975',\n",
       " '1c1e5a12-92fe-11ee-85ac-7ae137960975',\n",
       " '1c1e5a30-92fe-11ee-85ac-7ae137960975',\n",
       " '1c1e5a4e-92fe-11ee-85ac-7ae137960975',\n",
       " '1c1e5a6c-92fe-11ee-85ac-7ae137960975',\n",
       " '1c1e5a8a-92fe-11ee-85ac-7ae137960975',\n",
       " '1c1e5aa8-92fe-11ee-85ac-7ae137960975',\n",
       " '1c1e5ac6-92fe-11ee-85ac-7ae137960975',\n",
       " '1c1e5ae4-92fe-11ee-85ac-7ae137960975',\n",
       " '1c1e5af8-92fe-11ee-85ac-7ae137960975',\n",
       " '1c1e5b16-92fe-11ee-85ac-7ae137960975',\n",
       " '1c1e5b34-92fe-11ee-85ac-7ae137960975',\n",
       " '1c1e5b52-92fe-11ee-85ac-7ae137960975',\n",
       " '1c1e5b70-92fe-11ee-85ac-7ae137960975',\n",
       " '1c1e5b8e-92fe-11ee-85ac-7ae137960975',\n",
       " '1c1e5bd4-92fe-11ee-85ac-7ae137960975',\n",
       " '1c1e5bf2-92fe-11ee-85ac-7ae137960975',\n",
       " '1c1e5c10-92fe-11ee-85ac-7ae137960975',\n",
       " '1c1e5c2e-92fe-11ee-85ac-7ae137960975',\n",
       " '1c1e5c4c-92fe-11ee-85ac-7ae137960975',\n",
       " '1c1e5c6a-92fe-11ee-85ac-7ae137960975',\n",
       " '1c1e5c88-92fe-11ee-85ac-7ae137960975',\n",
       " '1c1e5ca6-92fe-11ee-85ac-7ae137960975',\n",
       " '1c1e5cc4-92fe-11ee-85ac-7ae137960975',\n",
       " '1c1e5ce2-92fe-11ee-85ac-7ae137960975',\n",
       " '1c1e5d00-92fe-11ee-85ac-7ae137960975',\n",
       " '1c1e5d14-92fe-11ee-85ac-7ae137960975',\n",
       " '1c1e5d32-92fe-11ee-85ac-7ae137960975',\n",
       " '1c1e5d50-92fe-11ee-85ac-7ae137960975',\n",
       " '1c1e5d6e-92fe-11ee-85ac-7ae137960975',\n",
       " '1c1e5d8c-92fe-11ee-85ac-7ae137960975',\n",
       " '1c1e5daa-92fe-11ee-85ac-7ae137960975',\n",
       " '1c1e5dc8-92fe-11ee-85ac-7ae137960975',\n",
       " '1c1e5de6-92fe-11ee-85ac-7ae137960975',\n",
       " '1c1e5dfa-92fe-11ee-85ac-7ae137960975',\n",
       " '1c1e5e18-92fe-11ee-85ac-7ae137960975',\n",
       " '1c1e5e36-92fe-11ee-85ac-7ae137960975',\n",
       " '1c1e5e54-92fe-11ee-85ac-7ae137960975',\n",
       " '1c1e5e72-92fe-11ee-85ac-7ae137960975',\n",
       " '1c1e5e90-92fe-11ee-85ac-7ae137960975',\n",
       " '1c1e5eae-92fe-11ee-85ac-7ae137960975',\n",
       " '1c1e5ec2-92fe-11ee-85ac-7ae137960975',\n",
       " '1c1e5eea-92fe-11ee-85ac-7ae137960975',\n",
       " '1c1e5efe-92fe-11ee-85ac-7ae137960975',\n",
       " '1c1e5f1c-92fe-11ee-85ac-7ae137960975',\n",
       " '1c1e5f3a-92fe-11ee-85ac-7ae137960975',\n",
       " '1c1e5f58-92fe-11ee-85ac-7ae137960975',\n",
       " '1c1e5f76-92fe-11ee-85ac-7ae137960975',\n",
       " '1c1e5f94-92fe-11ee-85ac-7ae137960975',\n",
       " '1c1e5fb2-92fe-11ee-85ac-7ae137960975',\n",
       " '1c1e5fc6-92fe-11ee-85ac-7ae137960975',\n",
       " '1c1e5fe4-92fe-11ee-85ac-7ae137960975',\n",
       " '1c1e6002-92fe-11ee-85ac-7ae137960975',\n",
       " '1c1e6020-92fe-11ee-85ac-7ae137960975',\n",
       " '1c1e603e-92fe-11ee-85ac-7ae137960975',\n",
       " '1c1e605c-92fe-11ee-85ac-7ae137960975',\n",
       " '1c1e607a-92fe-11ee-85ac-7ae137960975',\n",
       " '1c1e6098-92fe-11ee-85ac-7ae137960975',\n",
       " '1c1e60ac-92fe-11ee-85ac-7ae137960975',\n",
       " '1c1e60ca-92fe-11ee-85ac-7ae137960975',\n",
       " '1c1e60e8-92fe-11ee-85ac-7ae137960975',\n",
       " '1c1e6106-92fe-11ee-85ac-7ae137960975',\n",
       " '1c1e6124-92fe-11ee-85ac-7ae137960975',\n",
       " '1c1e6142-92fe-11ee-85ac-7ae137960975',\n",
       " '1c1e6160-92fe-11ee-85ac-7ae137960975',\n",
       " '1c1e617e-92fe-11ee-85ac-7ae137960975',\n",
       " '1c1e619c-92fe-11ee-85ac-7ae137960975',\n",
       " '1c1e61ba-92fe-11ee-85ac-7ae137960975',\n",
       " '1c1e61ce-92fe-11ee-85ac-7ae137960975',\n",
       " '1c1e61ec-92fe-11ee-85ac-7ae137960975',\n",
       " '1c1e620a-92fe-11ee-85ac-7ae137960975',\n",
       " '1c1e6228-92fe-11ee-85ac-7ae137960975',\n",
       " '1c1e6246-92fe-11ee-85ac-7ae137960975',\n",
       " '1c1e6264-92fe-11ee-85ac-7ae137960975',\n",
       " '1c1e6282-92fe-11ee-85ac-7ae137960975',\n",
       " '1c1e6296-92fe-11ee-85ac-7ae137960975',\n",
       " '1c1e62b4-92fe-11ee-85ac-7ae137960975',\n",
       " '1c1e62d2-92fe-11ee-85ac-7ae137960975',\n",
       " '1c1e62f0-92fe-11ee-85ac-7ae137960975',\n",
       " '1c1e630e-92fe-11ee-85ac-7ae137960975',\n",
       " '1c1e632c-92fe-11ee-85ac-7ae137960975',\n",
       " '1c1e634a-92fe-11ee-85ac-7ae137960975',\n",
       " '1c1e6368-92fe-11ee-85ac-7ae137960975',\n",
       " '1c1e6386-92fe-11ee-85ac-7ae137960975',\n",
       " '1c1e63a4-92fe-11ee-85ac-7ae137960975',\n",
       " '1c1e63b8-92fe-11ee-85ac-7ae137960975',\n",
       " '1c1e63d6-92fe-11ee-85ac-7ae137960975',\n",
       " '1c1e63f4-92fe-11ee-85ac-7ae137960975',\n",
       " '1c1e6412-92fe-11ee-85ac-7ae137960975',\n",
       " '1c1e6430-92fe-11ee-85ac-7ae137960975',\n",
       " '1c1e644e-92fe-11ee-85ac-7ae137960975',\n",
       " '1c1e646c-92fe-11ee-85ac-7ae137960975',\n",
       " '1c1e6480-92fe-11ee-85ac-7ae137960975',\n",
       " '1c1e649e-92fe-11ee-85ac-7ae137960975',\n",
       " '1c1e64bc-92fe-11ee-85ac-7ae137960975',\n",
       " '1c1e64da-92fe-11ee-85ac-7ae137960975',\n",
       " '1c1e64f8-92fe-11ee-85ac-7ae137960975',\n",
       " '1c1e6516-92fe-11ee-85ac-7ae137960975',\n",
       " '1c1e6534-92fe-11ee-85ac-7ae137960975',\n",
       " '1c1e6548-92fe-11ee-85ac-7ae137960975',\n",
       " '1c1e6566-92fe-11ee-85ac-7ae137960975',\n",
       " '1c1e6584-92fe-11ee-85ac-7ae137960975',\n",
       " '1c1e65a2-92fe-11ee-85ac-7ae137960975',\n",
       " '1c1e65c0-92fe-11ee-85ac-7ae137960975',\n",
       " '1c1e65de-92fe-11ee-85ac-7ae137960975',\n",
       " '1c1e65fc-92fe-11ee-85ac-7ae137960975',\n",
       " '1c1e661a-92fe-11ee-85ac-7ae137960975',\n",
       " '1c1e6638-92fe-11ee-85ac-7ae137960975',\n",
       " '1c1e664c-92fe-11ee-85ac-7ae137960975',\n",
       " '1c1e666a-92fe-11ee-85ac-7ae137960975',\n",
       " '1c1e6688-92fe-11ee-85ac-7ae137960975',\n",
       " '1c1e66a6-92fe-11ee-85ac-7ae137960975',\n",
       " '1c1e66c4-92fe-11ee-85ac-7ae137960975',\n",
       " '1c1e66e2-92fe-11ee-85ac-7ae137960975',\n",
       " '1c1e6700-92fe-11ee-85ac-7ae137960975',\n",
       " '1c1e6714-92fe-11ee-85ac-7ae137960975',\n",
       " '1c1e6732-92fe-11ee-85ac-7ae137960975',\n",
       " '1c1e6750-92fe-11ee-85ac-7ae137960975',\n",
       " '1c1e676e-92fe-11ee-85ac-7ae137960975',\n",
       " '1c1e678c-92fe-11ee-85ac-7ae137960975',\n",
       " '1c1e67aa-92fe-11ee-85ac-7ae137960975',\n",
       " '1c1e67d2-92fe-11ee-85ac-7ae137960975',\n",
       " '1c1e67f0-92fe-11ee-85ac-7ae137960975',\n",
       " '1c1e6804-92fe-11ee-85ac-7ae137960975',\n",
       " '1c1e6822-92fe-11ee-85ac-7ae137960975',\n",
       " '1c1e6840-92fe-11ee-85ac-7ae137960975',\n",
       " '1c1e685e-92fe-11ee-85ac-7ae137960975',\n",
       " '1c1e687c-92fe-11ee-85ac-7ae137960975',\n",
       " '1c1e689a-92fe-11ee-85ac-7ae137960975',\n",
       " '1c1e68b8-92fe-11ee-85ac-7ae137960975',\n",
       " '1c1e68d6-92fe-11ee-85ac-7ae137960975',\n",
       " '1c1e68f4-92fe-11ee-85ac-7ae137960975',\n",
       " '1c1e6912-92fe-11ee-85ac-7ae137960975',\n",
       " '1c1e6926-92fe-11ee-85ac-7ae137960975',\n",
       " '1c1e6944-92fe-11ee-85ac-7ae137960975',\n",
       " '1c1e6962-92fe-11ee-85ac-7ae137960975',\n",
       " '1c1e6980-92fe-11ee-85ac-7ae137960975',\n",
       " '1c1e699e-92fe-11ee-85ac-7ae137960975',\n",
       " '1c1e69bc-92fe-11ee-85ac-7ae137960975',\n",
       " '1c1e69da-92fe-11ee-85ac-7ae137960975',\n",
       " '1c1e69f8-92fe-11ee-85ac-7ae137960975',\n",
       " '1c1e6a16-92fe-11ee-85ac-7ae137960975',\n",
       " '1c1e6a2a-92fe-11ee-85ac-7ae137960975',\n",
       " '1c1e6a48-92fe-11ee-85ac-7ae137960975',\n",
       " '1c1e6a66-92fe-11ee-85ac-7ae137960975',\n",
       " '1c1e6a84-92fe-11ee-85ac-7ae137960975',\n",
       " '1c1e6aa2-92fe-11ee-85ac-7ae137960975',\n",
       " '1c1e6ac0-92fe-11ee-85ac-7ae137960975',\n",
       " '1c1e6ade-92fe-11ee-85ac-7ae137960975',\n",
       " '1c1e6afc-92fe-11ee-85ac-7ae137960975',\n",
       " '1c1e6b1a-92fe-11ee-85ac-7ae137960975',\n",
       " '1c1e6b2e-92fe-11ee-85ac-7ae137960975',\n",
       " '1c1e6b4c-92fe-11ee-85ac-7ae137960975',\n",
       " '1c1e6b6a-92fe-11ee-85ac-7ae137960975',\n",
       " '1c1e6b88-92fe-11ee-85ac-7ae137960975',\n",
       " '1c1e6ba6-92fe-11ee-85ac-7ae137960975',\n",
       " '1c1e6bc4-92fe-11ee-85ac-7ae137960975',\n",
       " '1c1e6be2-92fe-11ee-85ac-7ae137960975',\n",
       " '1c1e6c00-92fe-11ee-85ac-7ae137960975',\n",
       " '1c1e6c1e-92fe-11ee-85ac-7ae137960975',\n",
       " '1c1e6c3c-92fe-11ee-85ac-7ae137960975',\n",
       " '1c1e6c5a-92fe-11ee-85ac-7ae137960975',\n",
       " '1c1e6c78-92fe-11ee-85ac-7ae137960975',\n",
       " '1c1e6c8c-92fe-11ee-85ac-7ae137960975',\n",
       " '1c1e6caa-92fe-11ee-85ac-7ae137960975',\n",
       " '1c1e6cc8-92fe-11ee-85ac-7ae137960975',\n",
       " '1c1e6ce6-92fe-11ee-85ac-7ae137960975',\n",
       " '1c1e6d04-92fe-11ee-85ac-7ae137960975',\n",
       " '1c1e6d22-92fe-11ee-85ac-7ae137960975',\n",
       " '1c1e6d40-92fe-11ee-85ac-7ae137960975',\n",
       " '1c1e6d5e-92fe-11ee-85ac-7ae137960975',\n",
       " '1c1e6d7c-92fe-11ee-85ac-7ae137960975',\n",
       " '1c1e6d9a-92fe-11ee-85ac-7ae137960975',\n",
       " '1c1e6dae-92fe-11ee-85ac-7ae137960975',\n",
       " '1c1e6dcc-92fe-11ee-85ac-7ae137960975',\n",
       " '1c1e6dea-92fe-11ee-85ac-7ae137960975',\n",
       " '1c1e6e08-92fe-11ee-85ac-7ae137960975',\n",
       " '1c1e6e26-92fe-11ee-85ac-7ae137960975',\n",
       " '1c1e6e44-92fe-11ee-85ac-7ae137960975',\n",
       " '1c1e6e62-92fe-11ee-85ac-7ae137960975',\n",
       " '1c1e6e80-92fe-11ee-85ac-7ae137960975',\n",
       " '1c1e6e9e-92fe-11ee-85ac-7ae137960975',\n",
       " '1c1e6ebc-92fe-11ee-85ac-7ae137960975',\n",
       " '1c1e6eda-92fe-11ee-85ac-7ae137960975',\n",
       " '1c1e6ef8-92fe-11ee-85ac-7ae137960975',\n",
       " '1c1e6f0c-92fe-11ee-85ac-7ae137960975',\n",
       " '1c1e6f2a-92fe-11ee-85ac-7ae137960975',\n",
       " '1c1e6f48-92fe-11ee-85ac-7ae137960975',\n",
       " '1c1e6f66-92fe-11ee-85ac-7ae137960975',\n",
       " '1c1e6f84-92fe-11ee-85ac-7ae137960975',\n",
       " '1c1e6fa2-92fe-11ee-85ac-7ae137960975',\n",
       " '1c1e6fc0-92fe-11ee-85ac-7ae137960975',\n",
       " '1c1e6fde-92fe-11ee-85ac-7ae137960975',\n",
       " '1c1e6ffc-92fe-11ee-85ac-7ae137960975',\n",
       " '1c1e701a-92fe-11ee-85ac-7ae137960975',\n",
       " '1c1e7038-92fe-11ee-85ac-7ae137960975',\n",
       " '1c1e7056-92fe-11ee-85ac-7ae137960975',\n",
       " '1c1e7074-92fe-11ee-85ac-7ae137960975',\n",
       " '1c1e7088-92fe-11ee-85ac-7ae137960975',\n",
       " '1c1e70a6-92fe-11ee-85ac-7ae137960975',\n",
       " '1c1e70c4-92fe-11ee-85ac-7ae137960975',\n",
       " '1c1e70e2-92fe-11ee-85ac-7ae137960975',\n",
       " '1c1e7100-92fe-11ee-85ac-7ae137960975',\n",
       " '1c1e711e-92fe-11ee-85ac-7ae137960975',\n",
       " '1c1e713c-92fe-11ee-85ac-7ae137960975',\n",
       " '1c1e715a-92fe-11ee-85ac-7ae137960975',\n",
       " '1c1e7178-92fe-11ee-85ac-7ae137960975',\n",
       " '1c1e7196-92fe-11ee-85ac-7ae137960975',\n",
       " '1c1e71b4-92fe-11ee-85ac-7ae137960975',\n",
       " '1c1e71c8-92fe-11ee-85ac-7ae137960975',\n",
       " '1c1e71e6-92fe-11ee-85ac-7ae137960975',\n",
       " '1c1e7204-92fe-11ee-85ac-7ae137960975',\n",
       " '1c1e7222-92fe-11ee-85ac-7ae137960975',\n",
       " '1c1e7240-92fe-11ee-85ac-7ae137960975',\n",
       " '1c1e725e-92fe-11ee-85ac-7ae137960975',\n",
       " '1c1e727c-92fe-11ee-85ac-7ae137960975',\n",
       " '1c1e729a-92fe-11ee-85ac-7ae137960975',\n",
       " '1c1e72b8-92fe-11ee-85ac-7ae137960975',\n",
       " '1c1e72d6-92fe-11ee-85ac-7ae137960975',\n",
       " '1c1e72ea-92fe-11ee-85ac-7ae137960975',\n",
       " '1c1e7308-92fe-11ee-85ac-7ae137960975',\n",
       " '1c1e7326-92fe-11ee-85ac-7ae137960975',\n",
       " '1c1e7344-92fe-11ee-85ac-7ae137960975',\n",
       " '1c1e7362-92fe-11ee-85ac-7ae137960975',\n",
       " '1c1e7380-92fe-11ee-85ac-7ae137960975',\n",
       " '1c1e739e-92fe-11ee-85ac-7ae137960975',\n",
       " '1c1e73bc-92fe-11ee-85ac-7ae137960975',\n",
       " '1c1e73da-92fe-11ee-85ac-7ae137960975',\n",
       " '1c1e73ee-92fe-11ee-85ac-7ae137960975',\n",
       " '1c1e740c-92fe-11ee-85ac-7ae137960975',\n",
       " '1c1e742a-92fe-11ee-85ac-7ae137960975',\n",
       " '1c1e7448-92fe-11ee-85ac-7ae137960975',\n",
       " '1c1e7466-92fe-11ee-85ac-7ae137960975',\n",
       " '1c1e7484-92fe-11ee-85ac-7ae137960975',\n",
       " '1c1e74a2-92fe-11ee-85ac-7ae137960975',\n",
       " '1c1e74c0-92fe-11ee-85ac-7ae137960975',\n",
       " '1c1e74d4-92fe-11ee-85ac-7ae137960975',\n",
       " '1c1e74f2-92fe-11ee-85ac-7ae137960975',\n",
       " '1c1e7510-92fe-11ee-85ac-7ae137960975',\n",
       " '1c1e752e-92fe-11ee-85ac-7ae137960975',\n",
       " '1c1e754c-92fe-11ee-85ac-7ae137960975',\n",
       " '1c1e756a-92fe-11ee-85ac-7ae137960975',\n",
       " '1c1e7588-92fe-11ee-85ac-7ae137960975',\n",
       " '1c1e75a6-92fe-11ee-85ac-7ae137960975',\n",
       " '1c1e75c4-92fe-11ee-85ac-7ae137960975',\n",
       " '1c1e75d8-92fe-11ee-85ac-7ae137960975',\n",
       " '1c1e75f6-92fe-11ee-85ac-7ae137960975',\n",
       " '1c1e7614-92fe-11ee-85ac-7ae137960975',\n",
       " '1c1e7632-92fe-11ee-85ac-7ae137960975',\n",
       " '1c1e7650-92fe-11ee-85ac-7ae137960975',\n",
       " '1c1e7696-92fe-11ee-85ac-7ae137960975',\n",
       " '1c1e76b4-92fe-11ee-85ac-7ae137960975']"
      ]
     },
     "execution_count": 37,
     "metadata": {},
     "output_type": "execute_result"
    }
   ],
   "source": [
    "text_splitter = RecursiveCharacterTextSplitter(chunk_size=1000, chunk_overlap=200)\n",
    "texts = text_splitter.split_documents(pages)\n",
    "\n",
    "# embeddings = OpenAIEmbeddings()\n",
    "\n",
    "db = DeepLake(dataset_path=\"/Users/siddartha/Desktop/github/ActiveloopQA/Baai_embeddings/\", embedding=embeddings, token=os.environ['ACTIVELOOP_TOKEN'])\n",
    "db.add_documents(texts)"
   ]
  },
  {
   "cell_type": "code",
   "execution_count": 38,
   "metadata": {},
   "outputs": [],
   "source": [
    "qa = RetrievalQA.from_chain_type(llm=llm, chain_type='stuff', retriever=db.as_retriever())"
   ]
  },
  {
   "cell_type": "code",
   "execution_count": 41,
   "metadata": {},
   "outputs": [],
   "source": [
    "response = qa.run(\"How many stations are on the testbed? explain each station\")"
   ]
  },
  {
   "cell_type": "code",
   "execution_count": 42,
   "metadata": {},
   "outputs": [
    {
     "name": "stdout",
     "output_type": "stream",
     "text": [
      "Based on the provided context, there are at least 6 stations on the testbed. \n",
      "\n",
      "Unfortunately, the context does not provide detailed explanations for each station. It only mentions the faults associated with each station and their auto sequences. Without further information, it is not possible to provide a comprehensive explanation of each station's purpose or function.\n"
     ]
    }
   ],
   "source": [
    "print(str(response))"
   ]
  },
  {
   "cell_type": "code",
   "execution_count": 46,
   "metadata": {},
   "outputs": [
    {
     "data": {
      "application/vnd.jupyter.widget-view+json": {
       "model_id": "feaf2b7a61d040daacfb1b41ec48111c",
       "version_major": 2,
       "version_minor": 0
      },
      "text/plain": [
       "Downloading .gitattributes:   0%|          | 0.00/1.52k [00:00<?, ?B/s]"
      ]
     },
     "metadata": {},
     "output_type": "display_data"
    },
    {
     "data": {
      "application/vnd.jupyter.widget-view+json": {
       "model_id": "6a7c13e0aadc424a953cd12d08f55732",
       "version_major": 2,
       "version_minor": 0
      },
      "text/plain": [
       "Downloading 1_Pooling/config.json:   0%|          | 0.00/190 [00:00<?, ?B/s]"
      ]
     },
     "metadata": {},
     "output_type": "display_data"
    },
    {
     "data": {
      "application/vnd.jupyter.widget-view+json": {
       "model_id": "6dfdb0325fe84a4498fbe0ecaf07272f",
       "version_major": 2,
       "version_minor": 0
      },
      "text/plain": [
       "Downloading README.md:   0%|          | 0.00/90.3k [00:00<?, ?B/s]"
      ]
     },
     "metadata": {},
     "output_type": "display_data"
    },
    {
     "data": {
      "application/vnd.jupyter.widget-view+json": {
       "model_id": "39c393ca04db4510a289a63cc314c55d",
       "version_major": 2,
       "version_minor": 0
      },
      "text/plain": [
       "Downloading config.json:   0%|          | 0.00/743 [00:00<?, ?B/s]"
      ]
     },
     "metadata": {},
     "output_type": "display_data"
    },
    {
     "data": {
      "application/vnd.jupyter.widget-view+json": {
       "model_id": "570adeac9f1c48ca81abfd38680431c1",
       "version_major": 2,
       "version_minor": 0
      },
      "text/plain": [
       "Downloading (…)ce_transformers.json:   0%|          | 0.00/124 [00:00<?, ?B/s]"
      ]
     },
     "metadata": {},
     "output_type": "display_data"
    },
    {
     "data": {
      "application/vnd.jupyter.widget-view+json": {
       "model_id": "20c16dd71eec40d9ba6d9379673e3d40",
       "version_major": 2,
       "version_minor": 0
      },
      "text/plain": [
       "Downloading pytorch_model.bin:   0%|          | 0.00/134M [00:00<?, ?B/s]"
      ]
     },
     "metadata": {},
     "output_type": "display_data"
    },
    {
     "data": {
      "application/vnd.jupyter.widget-view+json": {
       "model_id": "c58d14661967428b94927d818281322e",
       "version_major": 2,
       "version_minor": 0
      },
      "text/plain": [
       "Downloading (…)nce_bert_config.json:   0%|          | 0.00/52.0 [00:00<?, ?B/s]"
      ]
     },
     "metadata": {},
     "output_type": "display_data"
    },
    {
     "data": {
      "application/vnd.jupyter.widget-view+json": {
       "model_id": "1a2202a24c8047e79bb67b5370c9d2fb",
       "version_major": 2,
       "version_minor": 0
      },
      "text/plain": [
       "Downloading (…)cial_tokens_map.json:   0%|          | 0.00/125 [00:00<?, ?B/s]"
      ]
     },
     "metadata": {},
     "output_type": "display_data"
    },
    {
     "data": {
      "application/vnd.jupyter.widget-view+json": {
       "model_id": "8d4319fe2011439fb8678159e17651cc",
       "version_major": 2,
       "version_minor": 0
      },
      "text/plain": [
       "Downloading tokenizer.json:   0%|          | 0.00/711k [00:00<?, ?B/s]"
      ]
     },
     "metadata": {},
     "output_type": "display_data"
    },
    {
     "data": {
      "application/vnd.jupyter.widget-view+json": {
       "model_id": "75a3841b3d51457c958d712660d5277c",
       "version_major": 2,
       "version_minor": 0
      },
      "text/plain": [
       "Downloading tokenizer_config.json:   0%|          | 0.00/366 [00:00<?, ?B/s]"
      ]
     },
     "metadata": {},
     "output_type": "display_data"
    },
    {
     "data": {
      "application/vnd.jupyter.widget-view+json": {
       "model_id": "df4dc3e171e84e498528c50fe8afd3e5",
       "version_major": 2,
       "version_minor": 0
      },
      "text/plain": [
       "Downloading vocab.txt:   0%|          | 0.00/232k [00:00<?, ?B/s]"
      ]
     },
     "metadata": {},
     "output_type": "display_data"
    },
    {
     "data": {
      "application/vnd.jupyter.widget-view+json": {
       "model_id": "9026e193d70e433a98ebed3403c2bbb8",
       "version_major": 2,
       "version_minor": 0
      },
      "text/plain": [
       "Downloading modules.json:   0%|          | 0.00/349 [00:00<?, ?B/s]"
      ]
     },
     "metadata": {},
     "output_type": "display_data"
    }
   ],
   "source": [
    "# from llama_index import ServiceContext\n",
    "\n",
    "# service_context = ServiceContext.from_defaults(embed_model=\"local:BAAI/bge-small-en-v1.5\")\n",
    "from langchain.embeddings import HuggingFaceEmbeddings\n",
    "embeddings = HuggingFaceEmbeddings(model_name=\"BAAI/bge-small-en-v1.5\")"
   ]
  },
  {
   "cell_type": "code",
   "execution_count": 47,
   "metadata": {},
   "outputs": [
    {
     "name": "stderr",
     "output_type": "stream",
     "text": [
      "Creating 403 embeddings in 1 batches of size 403:: 100%|██████████| 1/1 [00:32<00:00, 32.67s/it]"
     ]
    },
    {
     "name": "stdout",
     "output_type": "stream",
     "text": [
      "Dataset(path='/Users/siddartha/Desktop/github/ActiveloopQA/Baai_embeddings_small/', tensors=['text', 'metadata', 'embedding', 'id'])\n",
      "\n",
      "  tensor      htype      shape      dtype  compression\n",
      "  -------    -------    -------    -------  ------- \n",
      "   text       text      (403, 1)     str     None   \n",
      " metadata     json      (403, 1)     str     None   \n",
      " embedding  embedding  (403, 384)  float32   None   \n",
      "    id        text      (403, 1)     str     None   \n"
     ]
    },
    {
     "name": "stderr",
     "output_type": "stream",
     "text": [
      "\n"
     ]
    },
    {
     "data": {
      "text/plain": [
       "['415ba38c-9300-11ee-85ac-7ae137960975',\n",
       " '415ba422-9300-11ee-85ac-7ae137960975',\n",
       " '415ba436-9300-11ee-85ac-7ae137960975',\n",
       " '415ba44a-9300-11ee-85ac-7ae137960975',\n",
       " '415ba45e-9300-11ee-85ac-7ae137960975',\n",
       " '415ba472-9300-11ee-85ac-7ae137960975',\n",
       " '415ba486-9300-11ee-85ac-7ae137960975',\n",
       " '415ba49a-9300-11ee-85ac-7ae137960975',\n",
       " '415ba4a4-9300-11ee-85ac-7ae137960975',\n",
       " '415ba4b8-9300-11ee-85ac-7ae137960975',\n",
       " '415ba4cc-9300-11ee-85ac-7ae137960975',\n",
       " '415ba4e0-9300-11ee-85ac-7ae137960975',\n",
       " '415ba4f4-9300-11ee-85ac-7ae137960975',\n",
       " '415ba4fe-9300-11ee-85ac-7ae137960975',\n",
       " '415ba512-9300-11ee-85ac-7ae137960975',\n",
       " '415ba526-9300-11ee-85ac-7ae137960975',\n",
       " '415ba53a-9300-11ee-85ac-7ae137960975',\n",
       " '415ba544-9300-11ee-85ac-7ae137960975',\n",
       " '415ba558-9300-11ee-85ac-7ae137960975',\n",
       " '415ba56c-9300-11ee-85ac-7ae137960975',\n",
       " '415ba580-9300-11ee-85ac-7ae137960975',\n",
       " '415ba594-9300-11ee-85ac-7ae137960975',\n",
       " '415ba59e-9300-11ee-85ac-7ae137960975',\n",
       " '415ba5b2-9300-11ee-85ac-7ae137960975',\n",
       " '415ba5d0-9300-11ee-85ac-7ae137960975',\n",
       " '415ba5e4-9300-11ee-85ac-7ae137960975',\n",
       " '415ba5f8-9300-11ee-85ac-7ae137960975',\n",
       " '415ba60c-9300-11ee-85ac-7ae137960975',\n",
       " '415ba616-9300-11ee-85ac-7ae137960975',\n",
       " '415ba62a-9300-11ee-85ac-7ae137960975',\n",
       " '415ba63e-9300-11ee-85ac-7ae137960975',\n",
       " '415ba652-9300-11ee-85ac-7ae137960975',\n",
       " '415ba65c-9300-11ee-85ac-7ae137960975',\n",
       " '415ba670-9300-11ee-85ac-7ae137960975',\n",
       " '415ba684-9300-11ee-85ac-7ae137960975',\n",
       " '415ba698-9300-11ee-85ac-7ae137960975',\n",
       " '415ba6a2-9300-11ee-85ac-7ae137960975',\n",
       " '415ba6b6-9300-11ee-85ac-7ae137960975',\n",
       " '415ba6ca-9300-11ee-85ac-7ae137960975',\n",
       " '415ba6d4-9300-11ee-85ac-7ae137960975',\n",
       " '415ba6e8-9300-11ee-85ac-7ae137960975',\n",
       " '415ba6fc-9300-11ee-85ac-7ae137960975',\n",
       " '415ba710-9300-11ee-85ac-7ae137960975',\n",
       " '415ba71a-9300-11ee-85ac-7ae137960975',\n",
       " '415ba72e-9300-11ee-85ac-7ae137960975',\n",
       " '415ba742-9300-11ee-85ac-7ae137960975',\n",
       " '415ba74c-9300-11ee-85ac-7ae137960975',\n",
       " '415ba760-9300-11ee-85ac-7ae137960975',\n",
       " '415ba774-9300-11ee-85ac-7ae137960975',\n",
       " '415ba788-9300-11ee-85ac-7ae137960975',\n",
       " '415ba792-9300-11ee-85ac-7ae137960975',\n",
       " '415ba7a6-9300-11ee-85ac-7ae137960975',\n",
       " '415ba7ba-9300-11ee-85ac-7ae137960975',\n",
       " '415ba7c4-9300-11ee-85ac-7ae137960975',\n",
       " '415ba7d8-9300-11ee-85ac-7ae137960975',\n",
       " '415ba7ec-9300-11ee-85ac-7ae137960975',\n",
       " '415ba800-9300-11ee-85ac-7ae137960975',\n",
       " '415ba80a-9300-11ee-85ac-7ae137960975',\n",
       " '415ba81e-9300-11ee-85ac-7ae137960975',\n",
       " '415ba832-9300-11ee-85ac-7ae137960975',\n",
       " '415ba83c-9300-11ee-85ac-7ae137960975',\n",
       " '415ba850-9300-11ee-85ac-7ae137960975',\n",
       " '415ba864-9300-11ee-85ac-7ae137960975',\n",
       " '415ba86e-9300-11ee-85ac-7ae137960975',\n",
       " '415ba882-9300-11ee-85ac-7ae137960975',\n",
       " '415ba896-9300-11ee-85ac-7ae137960975',\n",
       " '415ba8aa-9300-11ee-85ac-7ae137960975',\n",
       " '415ba8be-9300-11ee-85ac-7ae137960975',\n",
       " '415ba8d2-9300-11ee-85ac-7ae137960975',\n",
       " '415ba8e6-9300-11ee-85ac-7ae137960975',\n",
       " '415ba8f0-9300-11ee-85ac-7ae137960975',\n",
       " '415ba904-9300-11ee-85ac-7ae137960975',\n",
       " '415ba918-9300-11ee-85ac-7ae137960975',\n",
       " '415ba92c-9300-11ee-85ac-7ae137960975',\n",
       " '415ba940-9300-11ee-85ac-7ae137960975',\n",
       " '415ba94a-9300-11ee-85ac-7ae137960975',\n",
       " '415ba95e-9300-11ee-85ac-7ae137960975',\n",
       " '415ba972-9300-11ee-85ac-7ae137960975',\n",
       " '415ba986-9300-11ee-85ac-7ae137960975',\n",
       " '415ba99a-9300-11ee-85ac-7ae137960975',\n",
       " '415ba9a4-9300-11ee-85ac-7ae137960975',\n",
       " '415ba9b8-9300-11ee-85ac-7ae137960975',\n",
       " '415ba9cc-9300-11ee-85ac-7ae137960975',\n",
       " '415ba9e0-9300-11ee-85ac-7ae137960975',\n",
       " '415ba9ea-9300-11ee-85ac-7ae137960975',\n",
       " '415ba9fe-9300-11ee-85ac-7ae137960975',\n",
       " '415baa12-9300-11ee-85ac-7ae137960975',\n",
       " '415baa1c-9300-11ee-85ac-7ae137960975',\n",
       " '415baa30-9300-11ee-85ac-7ae137960975',\n",
       " '415baa44-9300-11ee-85ac-7ae137960975',\n",
       " '415baa58-9300-11ee-85ac-7ae137960975',\n",
       " '415baa62-9300-11ee-85ac-7ae137960975',\n",
       " '415baa76-9300-11ee-85ac-7ae137960975',\n",
       " '415baa8a-9300-11ee-85ac-7ae137960975',\n",
       " '415baa9e-9300-11ee-85ac-7ae137960975',\n",
       " '415baaa8-9300-11ee-85ac-7ae137960975',\n",
       " '415baabc-9300-11ee-85ac-7ae137960975',\n",
       " '415baad0-9300-11ee-85ac-7ae137960975',\n",
       " '415baada-9300-11ee-85ac-7ae137960975',\n",
       " '415baaee-9300-11ee-85ac-7ae137960975',\n",
       " '415bab02-9300-11ee-85ac-7ae137960975',\n",
       " '415bab16-9300-11ee-85ac-7ae137960975',\n",
       " '415bab20-9300-11ee-85ac-7ae137960975',\n",
       " '415bab34-9300-11ee-85ac-7ae137960975',\n",
       " '415bab48-9300-11ee-85ac-7ae137960975',\n",
       " '415bab5c-9300-11ee-85ac-7ae137960975',\n",
       " '415bab66-9300-11ee-85ac-7ae137960975',\n",
       " '415bab7a-9300-11ee-85ac-7ae137960975',\n",
       " '415bab8e-9300-11ee-85ac-7ae137960975',\n",
       " '415baba2-9300-11ee-85ac-7ae137960975',\n",
       " '415babac-9300-11ee-85ac-7ae137960975',\n",
       " '415babc0-9300-11ee-85ac-7ae137960975',\n",
       " '415babd4-9300-11ee-85ac-7ae137960975',\n",
       " '415babde-9300-11ee-85ac-7ae137960975',\n",
       " '415babf2-9300-11ee-85ac-7ae137960975',\n",
       " '415bac06-9300-11ee-85ac-7ae137960975',\n",
       " '415bac1a-9300-11ee-85ac-7ae137960975',\n",
       " '415bac24-9300-11ee-85ac-7ae137960975',\n",
       " '415bac38-9300-11ee-85ac-7ae137960975',\n",
       " '415bac4c-9300-11ee-85ac-7ae137960975',\n",
       " '415bac56-9300-11ee-85ac-7ae137960975',\n",
       " '415bac6a-9300-11ee-85ac-7ae137960975',\n",
       " '415bac7e-9300-11ee-85ac-7ae137960975',\n",
       " '415bac92-9300-11ee-85ac-7ae137960975',\n",
       " '415bac9c-9300-11ee-85ac-7ae137960975',\n",
       " '415bacb0-9300-11ee-85ac-7ae137960975',\n",
       " '415bacc4-9300-11ee-85ac-7ae137960975',\n",
       " '415bacce-9300-11ee-85ac-7ae137960975',\n",
       " '415bace2-9300-11ee-85ac-7ae137960975',\n",
       " '415bacf6-9300-11ee-85ac-7ae137960975',\n",
       " '415bad0a-9300-11ee-85ac-7ae137960975',\n",
       " '415bad1e-9300-11ee-85ac-7ae137960975',\n",
       " '415bad28-9300-11ee-85ac-7ae137960975',\n",
       " '415bad3c-9300-11ee-85ac-7ae137960975',\n",
       " '415bad50-9300-11ee-85ac-7ae137960975',\n",
       " '415bad5a-9300-11ee-85ac-7ae137960975',\n",
       " '415bad6e-9300-11ee-85ac-7ae137960975',\n",
       " '415bad82-9300-11ee-85ac-7ae137960975',\n",
       " '415bad8c-9300-11ee-85ac-7ae137960975',\n",
       " '415bada0-9300-11ee-85ac-7ae137960975',\n",
       " '415badb4-9300-11ee-85ac-7ae137960975',\n",
       " '415badc8-9300-11ee-85ac-7ae137960975',\n",
       " '415badd2-9300-11ee-85ac-7ae137960975',\n",
       " '415bade6-9300-11ee-85ac-7ae137960975',\n",
       " '415badfa-9300-11ee-85ac-7ae137960975',\n",
       " '415bae04-9300-11ee-85ac-7ae137960975',\n",
       " '415bae18-9300-11ee-85ac-7ae137960975',\n",
       " '415bae2c-9300-11ee-85ac-7ae137960975',\n",
       " '415bae36-9300-11ee-85ac-7ae137960975',\n",
       " '415bae4a-9300-11ee-85ac-7ae137960975',\n",
       " '415bae5e-9300-11ee-85ac-7ae137960975',\n",
       " '415bae72-9300-11ee-85ac-7ae137960975',\n",
       " '415bae7c-9300-11ee-85ac-7ae137960975',\n",
       " '415bae90-9300-11ee-85ac-7ae137960975',\n",
       " '415baea4-9300-11ee-85ac-7ae137960975',\n",
       " '415baeae-9300-11ee-85ac-7ae137960975',\n",
       " '415baec2-9300-11ee-85ac-7ae137960975',\n",
       " '415baed6-9300-11ee-85ac-7ae137960975',\n",
       " '415baee0-9300-11ee-85ac-7ae137960975',\n",
       " '415baef4-9300-11ee-85ac-7ae137960975',\n",
       " '415baf08-9300-11ee-85ac-7ae137960975',\n",
       " '415baf1c-9300-11ee-85ac-7ae137960975',\n",
       " '415baf30-9300-11ee-85ac-7ae137960975',\n",
       " '415baf3a-9300-11ee-85ac-7ae137960975',\n",
       " '415baf4e-9300-11ee-85ac-7ae137960975',\n",
       " '415baf62-9300-11ee-85ac-7ae137960975',\n",
       " '415baf76-9300-11ee-85ac-7ae137960975',\n",
       " '415baf80-9300-11ee-85ac-7ae137960975',\n",
       " '415baf94-9300-11ee-85ac-7ae137960975',\n",
       " '415bafa8-9300-11ee-85ac-7ae137960975',\n",
       " '415bafbc-9300-11ee-85ac-7ae137960975',\n",
       " '415bafc6-9300-11ee-85ac-7ae137960975',\n",
       " '415bafda-9300-11ee-85ac-7ae137960975',\n",
       " '415bafee-9300-11ee-85ac-7ae137960975',\n",
       " '415bb002-9300-11ee-85ac-7ae137960975',\n",
       " '415bb00c-9300-11ee-85ac-7ae137960975',\n",
       " '415bb020-9300-11ee-85ac-7ae137960975',\n",
       " '415bb034-9300-11ee-85ac-7ae137960975',\n",
       " '415bb03e-9300-11ee-85ac-7ae137960975',\n",
       " '415bb052-9300-11ee-85ac-7ae137960975',\n",
       " '415bb066-9300-11ee-85ac-7ae137960975',\n",
       " '415bb070-9300-11ee-85ac-7ae137960975',\n",
       " '415bb084-9300-11ee-85ac-7ae137960975',\n",
       " '415bb098-9300-11ee-85ac-7ae137960975',\n",
       " '415bb0ac-9300-11ee-85ac-7ae137960975',\n",
       " '415bb0b6-9300-11ee-85ac-7ae137960975',\n",
       " '415bb0ca-9300-11ee-85ac-7ae137960975',\n",
       " '415bb0de-9300-11ee-85ac-7ae137960975',\n",
       " '415bb0e8-9300-11ee-85ac-7ae137960975',\n",
       " '415bb0fc-9300-11ee-85ac-7ae137960975',\n",
       " '415bb110-9300-11ee-85ac-7ae137960975',\n",
       " '415bb11a-9300-11ee-85ac-7ae137960975',\n",
       " '415bb12e-9300-11ee-85ac-7ae137960975',\n",
       " '415bb142-9300-11ee-85ac-7ae137960975',\n",
       " '415bb156-9300-11ee-85ac-7ae137960975',\n",
       " '415bb160-9300-11ee-85ac-7ae137960975',\n",
       " '415bb174-9300-11ee-85ac-7ae137960975',\n",
       " '415bb188-9300-11ee-85ac-7ae137960975',\n",
       " '415bb192-9300-11ee-85ac-7ae137960975',\n",
       " '415bb1a6-9300-11ee-85ac-7ae137960975',\n",
       " '415bb1ba-9300-11ee-85ac-7ae137960975',\n",
       " '415bb1ce-9300-11ee-85ac-7ae137960975',\n",
       " '415bb1d8-9300-11ee-85ac-7ae137960975',\n",
       " '415bb1ec-9300-11ee-85ac-7ae137960975',\n",
       " '415bb200-9300-11ee-85ac-7ae137960975',\n",
       " '415bb20a-9300-11ee-85ac-7ae137960975',\n",
       " '415bb21e-9300-11ee-85ac-7ae137960975',\n",
       " '415bb232-9300-11ee-85ac-7ae137960975',\n",
       " '415bb246-9300-11ee-85ac-7ae137960975',\n",
       " '415bb250-9300-11ee-85ac-7ae137960975',\n",
       " '415bb264-9300-11ee-85ac-7ae137960975',\n",
       " '415bb278-9300-11ee-85ac-7ae137960975',\n",
       " '415bb282-9300-11ee-85ac-7ae137960975',\n",
       " '415bb296-9300-11ee-85ac-7ae137960975',\n",
       " '415bb2aa-9300-11ee-85ac-7ae137960975',\n",
       " '415bb2be-9300-11ee-85ac-7ae137960975',\n",
       " '415bb2c8-9300-11ee-85ac-7ae137960975',\n",
       " '415bb2dc-9300-11ee-85ac-7ae137960975',\n",
       " '415bb2f0-9300-11ee-85ac-7ae137960975',\n",
       " '415bb2fa-9300-11ee-85ac-7ae137960975',\n",
       " '415bb30e-9300-11ee-85ac-7ae137960975',\n",
       " '415bb322-9300-11ee-85ac-7ae137960975',\n",
       " '415bb336-9300-11ee-85ac-7ae137960975',\n",
       " '415bb340-9300-11ee-85ac-7ae137960975',\n",
       " '415bb354-9300-11ee-85ac-7ae137960975',\n",
       " '415bb368-9300-11ee-85ac-7ae137960975',\n",
       " '415bb37c-9300-11ee-85ac-7ae137960975',\n",
       " '415bb386-9300-11ee-85ac-7ae137960975',\n",
       " '415bb39a-9300-11ee-85ac-7ae137960975',\n",
       " '415bb3ae-9300-11ee-85ac-7ae137960975',\n",
       " '415bb3c2-9300-11ee-85ac-7ae137960975',\n",
       " '415bb3cc-9300-11ee-85ac-7ae137960975',\n",
       " '415bb3e0-9300-11ee-85ac-7ae137960975',\n",
       " '415bb3f4-9300-11ee-85ac-7ae137960975',\n",
       " '415bb408-9300-11ee-85ac-7ae137960975',\n",
       " '415bb412-9300-11ee-85ac-7ae137960975',\n",
       " '415bb426-9300-11ee-85ac-7ae137960975',\n",
       " '415bb43a-9300-11ee-85ac-7ae137960975',\n",
       " '415bb444-9300-11ee-85ac-7ae137960975',\n",
       " '415bb458-9300-11ee-85ac-7ae137960975',\n",
       " '415bb46c-9300-11ee-85ac-7ae137960975',\n",
       " '415bb476-9300-11ee-85ac-7ae137960975',\n",
       " '415bb48a-9300-11ee-85ac-7ae137960975',\n",
       " '415bb49e-9300-11ee-85ac-7ae137960975',\n",
       " '415bb4b2-9300-11ee-85ac-7ae137960975',\n",
       " '415bb4bc-9300-11ee-85ac-7ae137960975',\n",
       " '415bb4d0-9300-11ee-85ac-7ae137960975',\n",
       " '415bb4e4-9300-11ee-85ac-7ae137960975',\n",
       " '415bb4ee-9300-11ee-85ac-7ae137960975',\n",
       " '415bb502-9300-11ee-85ac-7ae137960975',\n",
       " '415bb516-9300-11ee-85ac-7ae137960975',\n",
       " '415bb52a-9300-11ee-85ac-7ae137960975',\n",
       " '415bb534-9300-11ee-85ac-7ae137960975',\n",
       " '415bb548-9300-11ee-85ac-7ae137960975',\n",
       " '415bb55c-9300-11ee-85ac-7ae137960975',\n",
       " '415bb566-9300-11ee-85ac-7ae137960975',\n",
       " '415bb57a-9300-11ee-85ac-7ae137960975',\n",
       " '415bb58e-9300-11ee-85ac-7ae137960975',\n",
       " '415bb5a2-9300-11ee-85ac-7ae137960975',\n",
       " '415bb5ac-9300-11ee-85ac-7ae137960975',\n",
       " '415bb5c0-9300-11ee-85ac-7ae137960975',\n",
       " '415bb5d4-9300-11ee-85ac-7ae137960975',\n",
       " '415bb5de-9300-11ee-85ac-7ae137960975',\n",
       " '415bb5f2-9300-11ee-85ac-7ae137960975',\n",
       " '415bb606-9300-11ee-85ac-7ae137960975',\n",
       " '415bb61a-9300-11ee-85ac-7ae137960975',\n",
       " '415bb624-9300-11ee-85ac-7ae137960975',\n",
       " '415bb638-9300-11ee-85ac-7ae137960975',\n",
       " '415bb64c-9300-11ee-85ac-7ae137960975',\n",
       " '415bb656-9300-11ee-85ac-7ae137960975',\n",
       " '415bb66a-9300-11ee-85ac-7ae137960975',\n",
       " '415bb67e-9300-11ee-85ac-7ae137960975',\n",
       " '415bb692-9300-11ee-85ac-7ae137960975',\n",
       " '415bb69c-9300-11ee-85ac-7ae137960975',\n",
       " '415bb6b0-9300-11ee-85ac-7ae137960975',\n",
       " '415bb6c4-9300-11ee-85ac-7ae137960975',\n",
       " '415bb6ce-9300-11ee-85ac-7ae137960975',\n",
       " '415bb6e2-9300-11ee-85ac-7ae137960975',\n",
       " '415bb6f6-9300-11ee-85ac-7ae137960975',\n",
       " '415bb70a-9300-11ee-85ac-7ae137960975',\n",
       " '415bb714-9300-11ee-85ac-7ae137960975',\n",
       " '415bb728-9300-11ee-85ac-7ae137960975',\n",
       " '415bb73c-9300-11ee-85ac-7ae137960975',\n",
       " '415bb746-9300-11ee-85ac-7ae137960975',\n",
       " '415bb75a-9300-11ee-85ac-7ae137960975',\n",
       " '415bb76e-9300-11ee-85ac-7ae137960975',\n",
       " '415bb782-9300-11ee-85ac-7ae137960975',\n",
       " '415bb78c-9300-11ee-85ac-7ae137960975',\n",
       " '415bb7a0-9300-11ee-85ac-7ae137960975',\n",
       " '415bb7b4-9300-11ee-85ac-7ae137960975',\n",
       " '415bb7be-9300-11ee-85ac-7ae137960975',\n",
       " '415bb7d2-9300-11ee-85ac-7ae137960975',\n",
       " '415bb7e6-9300-11ee-85ac-7ae137960975',\n",
       " '415bb7fa-9300-11ee-85ac-7ae137960975',\n",
       " '415bb804-9300-11ee-85ac-7ae137960975',\n",
       " '415bb818-9300-11ee-85ac-7ae137960975',\n",
       " '415bb82c-9300-11ee-85ac-7ae137960975',\n",
       " '415bb836-9300-11ee-85ac-7ae137960975',\n",
       " '415bb84a-9300-11ee-85ac-7ae137960975',\n",
       " '415bb85e-9300-11ee-85ac-7ae137960975',\n",
       " '415bb872-9300-11ee-85ac-7ae137960975',\n",
       " '415bb87c-9300-11ee-85ac-7ae137960975',\n",
       " '415bb890-9300-11ee-85ac-7ae137960975',\n",
       " '415bb8a4-9300-11ee-85ac-7ae137960975',\n",
       " '415bb8ae-9300-11ee-85ac-7ae137960975',\n",
       " '415bb8c2-9300-11ee-85ac-7ae137960975',\n",
       " '415bb8d6-9300-11ee-85ac-7ae137960975',\n",
       " '415bb8e0-9300-11ee-85ac-7ae137960975',\n",
       " '415bb8f4-9300-11ee-85ac-7ae137960975',\n",
       " '415bb908-9300-11ee-85ac-7ae137960975',\n",
       " '415bb91c-9300-11ee-85ac-7ae137960975',\n",
       " '415bb926-9300-11ee-85ac-7ae137960975',\n",
       " '415bb93a-9300-11ee-85ac-7ae137960975',\n",
       " '415bb94e-9300-11ee-85ac-7ae137960975',\n",
       " '415bb962-9300-11ee-85ac-7ae137960975',\n",
       " '415bb96c-9300-11ee-85ac-7ae137960975',\n",
       " '415bb980-9300-11ee-85ac-7ae137960975',\n",
       " '415bb994-9300-11ee-85ac-7ae137960975',\n",
       " '415bb99e-9300-11ee-85ac-7ae137960975',\n",
       " '415bb9b2-9300-11ee-85ac-7ae137960975',\n",
       " '415bb9c6-9300-11ee-85ac-7ae137960975',\n",
       " '415bb9da-9300-11ee-85ac-7ae137960975',\n",
       " '415bb9e4-9300-11ee-85ac-7ae137960975',\n",
       " '415bb9f8-9300-11ee-85ac-7ae137960975',\n",
       " '415bba0c-9300-11ee-85ac-7ae137960975',\n",
       " '415bba16-9300-11ee-85ac-7ae137960975',\n",
       " '415bba2a-9300-11ee-85ac-7ae137960975',\n",
       " '415bba3e-9300-11ee-85ac-7ae137960975',\n",
       " '415bba52-9300-11ee-85ac-7ae137960975',\n",
       " '415bba5c-9300-11ee-85ac-7ae137960975',\n",
       " '415bba70-9300-11ee-85ac-7ae137960975',\n",
       " '415bba84-9300-11ee-85ac-7ae137960975',\n",
       " '415bba98-9300-11ee-85ac-7ae137960975',\n",
       " '415bbaa2-9300-11ee-85ac-7ae137960975',\n",
       " '415bbab6-9300-11ee-85ac-7ae137960975',\n",
       " '415bbaca-9300-11ee-85ac-7ae137960975',\n",
       " '415bbade-9300-11ee-85ac-7ae137960975',\n",
       " '415bbaf2-9300-11ee-85ac-7ae137960975',\n",
       " '415bbafc-9300-11ee-85ac-7ae137960975',\n",
       " '415bbb10-9300-11ee-85ac-7ae137960975',\n",
       " '415bbb24-9300-11ee-85ac-7ae137960975',\n",
       " '415bbb2e-9300-11ee-85ac-7ae137960975',\n",
       " '415bbb42-9300-11ee-85ac-7ae137960975',\n",
       " '415bbb56-9300-11ee-85ac-7ae137960975',\n",
       " '415bbb60-9300-11ee-85ac-7ae137960975',\n",
       " '415bbb74-9300-11ee-85ac-7ae137960975',\n",
       " '415bbb88-9300-11ee-85ac-7ae137960975',\n",
       " '415bbb9c-9300-11ee-85ac-7ae137960975',\n",
       " '415bbba6-9300-11ee-85ac-7ae137960975',\n",
       " '415bbbba-9300-11ee-85ac-7ae137960975',\n",
       " '415bbbce-9300-11ee-85ac-7ae137960975',\n",
       " '415bbbd8-9300-11ee-85ac-7ae137960975',\n",
       " '415bbbec-9300-11ee-85ac-7ae137960975',\n",
       " '415bbc00-9300-11ee-85ac-7ae137960975',\n",
       " '415bbc0a-9300-11ee-85ac-7ae137960975',\n",
       " '415bbc1e-9300-11ee-85ac-7ae137960975',\n",
       " '415bbc32-9300-11ee-85ac-7ae137960975',\n",
       " '415bbc46-9300-11ee-85ac-7ae137960975',\n",
       " '415bbc50-9300-11ee-85ac-7ae137960975',\n",
       " '415bbc64-9300-11ee-85ac-7ae137960975',\n",
       " '415bbc78-9300-11ee-85ac-7ae137960975',\n",
       " '415bbc82-9300-11ee-85ac-7ae137960975',\n",
       " '415bbc96-9300-11ee-85ac-7ae137960975',\n",
       " '415bbcaa-9300-11ee-85ac-7ae137960975',\n",
       " '415bbcb4-9300-11ee-85ac-7ae137960975',\n",
       " '415bbcc8-9300-11ee-85ac-7ae137960975',\n",
       " '415bbcdc-9300-11ee-85ac-7ae137960975',\n",
       " '415bbce6-9300-11ee-85ac-7ae137960975',\n",
       " '415bbcfa-9300-11ee-85ac-7ae137960975',\n",
       " '415bbd0e-9300-11ee-85ac-7ae137960975',\n",
       " '415bbd18-9300-11ee-85ac-7ae137960975',\n",
       " '415bbd2c-9300-11ee-85ac-7ae137960975',\n",
       " '415bbd40-9300-11ee-85ac-7ae137960975',\n",
       " '415bbd54-9300-11ee-85ac-7ae137960975',\n",
       " '415bbd5e-9300-11ee-85ac-7ae137960975',\n",
       " '415bbd72-9300-11ee-85ac-7ae137960975',\n",
       " '415bbd86-9300-11ee-85ac-7ae137960975',\n",
       " '415bbd90-9300-11ee-85ac-7ae137960975',\n",
       " '415bbda4-9300-11ee-85ac-7ae137960975',\n",
       " '415bbdb8-9300-11ee-85ac-7ae137960975',\n",
       " '415bbdc2-9300-11ee-85ac-7ae137960975',\n",
       " '415bbdd6-9300-11ee-85ac-7ae137960975',\n",
       " '415bbdea-9300-11ee-85ac-7ae137960975',\n",
       " '415bbdf4-9300-11ee-85ac-7ae137960975',\n",
       " '415bbe08-9300-11ee-85ac-7ae137960975',\n",
       " '415bbe1c-9300-11ee-85ac-7ae137960975',\n",
       " '415bbe30-9300-11ee-85ac-7ae137960975',\n",
       " '415bbe3a-9300-11ee-85ac-7ae137960975',\n",
       " '415bbe4e-9300-11ee-85ac-7ae137960975',\n",
       " '415bbe62-9300-11ee-85ac-7ae137960975',\n",
       " '415bbe6c-9300-11ee-85ac-7ae137960975',\n",
       " '415bbe80-9300-11ee-85ac-7ae137960975',\n",
       " '415bbe94-9300-11ee-85ac-7ae137960975',\n",
       " '415bbe9e-9300-11ee-85ac-7ae137960975',\n",
       " '415bbeb2-9300-11ee-85ac-7ae137960975',\n",
       " '415bbec6-9300-11ee-85ac-7ae137960975',\n",
       " '415bbed0-9300-11ee-85ac-7ae137960975',\n",
       " '415bbee4-9300-11ee-85ac-7ae137960975',\n",
       " '415bbef8-9300-11ee-85ac-7ae137960975',\n",
       " '415bbf0c-9300-11ee-85ac-7ae137960975',\n",
       " '415bbf16-9300-11ee-85ac-7ae137960975',\n",
       " '415bbf2a-9300-11ee-85ac-7ae137960975',\n",
       " '415bbf3e-9300-11ee-85ac-7ae137960975']"
      ]
     },
     "execution_count": 47,
     "metadata": {},
     "output_type": "execute_result"
    }
   ],
   "source": [
    "text_splitter = RecursiveCharacterTextSplitter(chunk_size=1000, chunk_overlap=200)\n",
    "texts = text_splitter.split_documents(pages)\n",
    "\n",
    "# embeddings = OpenAIEmbeddings()\n",
    "\n",
    "db = DeepLake(dataset_path=\"/Users/siddartha/Desktop/github/ActiveloopQA/Baai_embeddings_small/\", embedding=embeddings, token=os.environ['ACTIVELOOP_TOKEN'])\n",
    "db.add_documents(texts)"
   ]
  },
  {
   "cell_type": "code",
   "execution_count": 80,
   "metadata": {},
   "outputs": [],
   "source": [
    "qa = RetrievalQA.from_chain_type(llm=llm, chain_type='refine', retriever=db.as_retriever())"
   ]
  },
  {
   "cell_type": "code",
   "execution_count": 81,
   "metadata": {},
   "outputs": [
    {
     "data": {
      "text/plain": [
       "'Based on the additional context provided, it appears that the information pertains to the steps or tasks performed at Station 1 rather than the number of stations on the testbed. Therefore, the original answer remains accurate, and we cannot determine the total number of stations or explain each station in detail based on the given information.'"
      ]
     },
     "execution_count": 81,
     "metadata": {},
     "output_type": "execute_result"
    }
   ],
   "source": [
    "qa.run(\"How many stations are on the testbed? explain each station\")"
   ]
  },
  {
   "cell_type": "code",
   "execution_count": 82,
   "metadata": {},
   "outputs": [
    {
     "data": {
      "text/plain": [
       "'Based on the additional context provided, it seems that the instructions are specific to a particular process or system involving different volumes and valves. Without further information, it is difficult to provide a precise answer on how to turn on the test bed. It is recommended to consult the user manual or documentation for the specific test bed system being used. The manual should provide detailed instructions on how to turn on the test bed and navigate through the different steps and settings mentioned in the context. If the manual is not available, it would be best to reach out to the manufacturer or technical support for guidance on operating the test bed.'"
      ]
     },
     "execution_count": 82,
     "metadata": {},
     "output_type": "execute_result"
    }
   ],
   "source": [
    "qa.run(\"How to turn on the test bed?\")"
   ]
  },
  {
   "cell_type": "code",
   "execution_count": null,
   "metadata": {},
   "outputs": [],
   "source": []
  }
 ],
 "metadata": {
  "kernelspec": {
   "display_name": "Python 3",
   "language": "python",
   "name": "python3"
  },
  "language_info": {
   "codemirror_mode": {
    "name": "ipython",
    "version": 3
   },
   "file_extension": ".py",
   "mimetype": "text/x-python",
   "name": "python",
   "nbconvert_exporter": "python",
   "pygments_lexer": "ipython3",
   "version": "3.10.11"
  }
 },
 "nbformat": 4,
 "nbformat_minor": 2
}
