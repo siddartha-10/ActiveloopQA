{
 "cells": [
  {
   "cell_type": "code",
   "execution_count": 14,
   "metadata": {},
   "outputs": [],
   "source": [
    "import os\n",
    "from dotenv import load_dotenv\n",
    "\n",
    "# Load environment variables from the .env file\n",
    "load_dotenv()\n",
    "\n",
    "# Access the OpenAI key\n",
    "openai_key = os.getenv(\"OPENAI_API_KEY\")\n",
    "activeloop_key = os.getenv(\"ACTIVELOOP_TOKEN\")\n"
   ]
  },
  {
   "cell_type": "code",
   "execution_count": 160,
   "metadata": {},
   "outputs": [],
   "source": [
    "from langchain.chains import RetrievalQA\n",
    "from langchain.embeddings.openai import OpenAIEmbeddings\n",
    "from langchain.llms import OpenAIChat\n",
    "from langchain.vectorstores.deeplake import DeepLake\n",
    "from langchain.document_loaders import PyPDFLoader\n",
    "import random\n",
    "from langchain.embeddings import OpenAIEmbeddings\n",
    "from tqdm import tqdm\n",
    "llm = ChatOpenAI(model=\"gpt-3.5-turbo-1106\", temperature=0)"
   ]
  },
  {
   "cell_type": "code",
   "execution_count": 16,
   "metadata": {},
   "outputs": [],
   "source": [
    "openai_embeddings = OpenAIEmbeddings()"
   ]
  },
  {
   "cell_type": "code",
   "execution_count": 18,
   "metadata": {},
   "outputs": [
    {
     "name": "stdout",
     "output_type": "stream",
     "text": [
      "Your Deep Lake dataset has been successfully created!\n"
     ]
    },
    {
     "name": "stderr",
     "output_type": "stream",
     "text": []
    }
   ],
   "source": [
    "# dataset_path = \"hub://101010/text_embedding\"\n",
    "# # Create a DeepLake instance and add the documents\n",
    "# db = DeepLake.from_documents(documents, dataset_path=dataset_path, embedding=OpenAIEmbeddings())\n",
    "\n",
    "db = DeepLake(\n",
    "    dataset_path=f\"hub://siddartha10/manufacturing_CSI\",  # org_id stands for your username or organization from activeloop\n",
    "    embedding=openai_embeddings,\n",
    "    runtime={\"tensor_db\": True},\n",
    "    token=activeloop_key,\n",
    "    # overwrite=True, # user overwrite flag if you want to overwrite the full dataset\n",
    "    read_only=False,\n",
    ")"
   ]
  },
  {
   "cell_type": "code",
   "execution_count": 19,
   "metadata": {},
   "outputs": [
    {
     "name": "stderr",
     "output_type": "stream",
     "text": [
      " 45%|████▍     | 134/300 [35:15<43:40, 15.79s/it]\n",
      " 26%|██▌       | 77/300 [22:09<1:04:10, 17.27s/it]\n"
     ]
    }
   ],
   "source": [
    "# Replace 'file_paths' with the paths to your local PDF files\n",
    "file_paths = [\n",
    "    \"manual\\'s.pdf\",\n",
    "    \"Operation and Maintenance Manual.pdf\",\n",
    "    \"Operations Manual.pdf\"\n",
    "]\n",
    "# Initialize an empty list to store all pages\n",
    "pages = []\n",
    "\n",
    "# Loop through each manual and load its pages\n",
    "for manual_path in file_paths:\n",
    "    loader = PyPDFLoader(manual_path)\n",
    "    pages1 = loader.load_and_split()\n",
    "    pages.extend(pages1)"
   ]
  },
  {
   "cell_type": "code",
   "execution_count": 20,
   "metadata": {},
   "outputs": [],
   "source": [
    "from langchain.text_splitter import RecursiveCharacterTextSplitter\n",
    "\n",
    "chunk_size = 4096\n",
    "docs_new = []\n",
    "\n",
    "text_splitter = RecursiveCharacterTextSplitter(\n",
    "    chunk_size=chunk_size,\n",
    ")\n",
    "\n",
    "for doc in pages:\n",
    "    if len(doc.page_content) < chunk_size:\n",
    "        docs_new.append(doc)\n",
    "    else:\n",
    "        docs = text_splitter.create_documents([doc.page_content])\n",
    "        docs_new.extend(docs)"
   ]
  },
  {
   "cell_type": "code",
   "execution_count": 21,
   "metadata": {},
   "outputs": [
    {
     "name": "stderr",
     "output_type": "stream",
     "text": [
      "Creating 197 embeddings in 1 batches of size 197:: 100%|██████████| 1/1 [00:07<00:00,  7.68s/it]"
     ]
    },
    {
     "name": "stdout",
     "output_type": "stream",
     "text": [
      "Dataset(path='hub://siddartha10/manufacturing_CSI', tensors=['text', 'metadata', 'embedding', 'id'])\n",
      "\n",
      "  tensor      htype       shape      dtype  compression\n",
      "  -------    -------     -------    -------  ------- \n",
      "   text       text      (197, 1)      str     None   \n",
      " metadata     json      (197, 1)      str     None   \n",
      " embedding  embedding  (197, 1536)  float32   None   \n",
      "    id        text      (197, 1)      str     None   \n"
     ]
    },
    {
     "name": "stderr",
     "output_type": "stream",
     "text": [
      "\n"
     ]
    }
   ],
   "source": [
    "docs = db.add_documents(docs_new)"
   ]
  },
  {
   "cell_type": "code",
   "execution_count": 22,
   "metadata": {},
   "outputs": [],
   "source": [
    "from typing import List\n",
    "\n",
    "from langchain.chains.openai_functions import (\n",
    "    create_structured_output_chain,\n",
    ")\n",
    "from langchain.chat_models import ChatOpenAI\n",
    "from langchain.prompts import ChatPromptTemplate, HumanMessagePromptTemplate\n",
    "from langchain.schema import HumanMessage, SystemMessage\n",
    "from pydantic import BaseModel, Field"
   ]
  },
  {
   "cell_type": "code",
   "execution_count": 23,
   "metadata": {},
   "outputs": [],
   "source": [
    "# fetch dataset docs and ids if they exist (optional you can also ingest)\n",
    "docs = db.vectorstore.dataset.text.data(fetch_chunks=True, aslist=True)[\"value\"]\n",
    "ids = db.vectorstore.dataset.id.data(fetch_chunks=True, aslist=True)[\"value\"]"
   ]
  },
  {
   "cell_type": "code",
   "execution_count": 24,
   "metadata": {},
   "outputs": [
    {
     "name": "stdout",
     "output_type": "stream",
     "text": [
      "\n",
      "\n",
      "\u001b[1m> Entering new LLMChain chain...\u001b[0m\n",
      "Prompt after formatting:\n",
      "\u001b[32;1m\u001b[1;3mSystem: You are a world class expert for generating questions based on provided context.                 You make sure the question can be answered by the text.\n",
      "Human: Use the given text to generate a question from the following input: \n",
      "UWM CSI Vial Filling Connected Smart Manufacturing (CSM) System The UWM CSI Vial Filling CSM  System is an intelligent manufacturing system using the latest Industry 4.0 connected advanced manufacturing equipment and techniques to produce  vials filled with varying product using a variety of filling methods and capturing process data that can be used for data analysis and system optimization.  The  Vial Filling CSM System is a platform that university faculty and students will use for both education and research to  further the advancement of a connected enterprise.   The CAM components are  integrate d seamlessly within a fully  integrated architecture and connected  enterprise using cutting -edge smart -data devices at all layers.     The process overview detailed in this section describes in general how the Vial Filling Connected Smart Manufacturing system functions as a complete system processing components.  Operational steps and slight variances in the process may differ from what is described here depending on the configuration parameters or  using the stations  in a dry cycle mode .  The Vial Filling CSM utilizes localized system configuration setting within the machine as well as process data requirements and parameters to determine how  to process the product and which stations and inspections are required to complete the production job.  When running under MES Production Center control, the process requirements and parameters are received  from the MES system as to where  and how to process and inspect the vials produced by the system .    \n",
      "Human: Tips: Make sure to answer in the correct format\u001b[0m\n",
      "\n",
      "\u001b[1m> Finished chain.\u001b[0m\n",
      "question='What is the purpose of the UWM CSI Vial Filling Connected Smart Manufacturing (CSM) System?'\n"
     ]
    }
   ],
   "source": [
    "# If we pass in a model explicitly, we need to make sure it supports the OpenAI function-calling API.\n",
    "llm = ChatOpenAI(model=\"gpt-3.5-turbo\", temperature=0)\n",
    "\n",
    "\n",
    "class Questions(BaseModel):\n",
    "    \"\"\"Identifying information about the manufacturing system.\"\"\"\n",
    "\n",
    "    question: str = Field(..., description=\"Questions about manufacturing system\")\n",
    "\n",
    "\n",
    "prompt_msgs = [\n",
    "    SystemMessage(\n",
    "        content=\"You are a world class expert for generating questions based on provided context. \\\n",
    "                You make sure the question can be answered by the text.\"\n",
    "    ),\n",
    "    HumanMessagePromptTemplate.from_template(\n",
    "        \"Use the given text to generate a question from the following input: {input}\"\n",
    "    ),\n",
    "    HumanMessage(content=\"Tips: Make sure to answer in the correct format\"),\n",
    "]\n",
    "prompt = ChatPromptTemplate(messages=prompt_msgs)\n",
    "chain = create_structured_output_chain(Questions, llm, prompt, verbose=True)\n",
    "\n",
    "text = \"\"\"\n",
    "UWM CSI Vial Filling Connected Smart Manufacturing (CSM) System The UWM CSI Vial Filling CSM  System is an intelligent manufacturing system using the latest Industry 4.0 connected advanced manufacturing equipment and techniques to produce  vials filled with varying product using a variety of filling methods and capturing process data that can be used for data analysis and system optimization.  The  Vial Filling CSM System is a platform that university faculty and students will use for both education and research to  further the advancement of a connected enterprise.   The CAM components are  integrate d seamlessly within a fully  integrated architecture and connected  enterprise using cutting -edge smart -data devices at all layers.     The process overview detailed in this section describes in general how the Vial Filling Connected Smart Manufacturing system functions as a complete system processing components.  Operational steps and slight variances in the process may differ from what is described here depending on the configuration parameters or  using the stations  in a dry cycle mode .  The Vial Filling CSM utilizes localized system configuration setting within the machine as well as process data requirements and parameters to determine how  to process the product and which stations and inspections are required to complete the production job.  When running under MES Production Center control, the process requirements and parameters are received  from the MES system as to where  and how to process and inspect the vials produced by the system .    \"\"\"\n",
    "questions = chain.run(input=text)\n",
    "print(questions)"
   ]
  },
  {
   "cell_type": "code",
   "execution_count": 26,
   "metadata": {},
   "outputs": [
    {
     "name": "stderr",
     "output_type": "stream",
     "text": []
    },
    {
     "name": "stdout",
     "output_type": "stream",
     "text": [
      "q: 10\n"
     ]
    },
    {
     "name": "stderr",
     "output_type": "stream",
     "text": []
    },
    {
     "name": "stdout",
     "output_type": "stream",
     "text": [
      "q: 20\n"
     ]
    },
    {
     "name": "stderr",
     "output_type": "stream",
     "text": []
    },
    {
     "name": "stdout",
     "output_type": "stream",
     "text": [
      "q: 30\n"
     ]
    },
    {
     "name": "stderr",
     "output_type": "stream",
     "text": []
    },
    {
     "name": "stdout",
     "output_type": "stream",
     "text": [
      "q: 40\n"
     ]
    },
    {
     "name": "stderr",
     "output_type": "stream",
     "text": []
    },
    {
     "name": "stdout",
     "output_type": "stream",
     "text": [
      "q: 50\n"
     ]
    },
    {
     "name": "stderr",
     "output_type": "stream",
     "text": []
    },
    {
     "name": "stdout",
     "output_type": "stream",
     "text": [
      "q: 60\n"
     ]
    },
    {
     "name": "stderr",
     "output_type": "stream",
     "text": []
    },
    {
     "name": "stdout",
     "output_type": "stream",
     "text": [
      "q: 70\n"
     ]
    },
    {
     "name": "stderr",
     "output_type": "stream",
     "text": []
    },
    {
     "name": "stdout",
     "output_type": "stream",
     "text": [
      "q: 80\n"
     ]
    },
    {
     "name": "stderr",
     "output_type": "stream",
     "text": []
    },
    {
     "name": "stdout",
     "output_type": "stream",
     "text": [
      "q: 90\n"
     ]
    },
    {
     "name": "stderr",
     "output_type": "stream",
     "text": []
    },
    {
     "name": "stdout",
     "output_type": "stream",
     "text": [
      "q: 100\n"
     ]
    },
    {
     "name": "stderr",
     "output_type": "stream",
     "text": []
    },
    {
     "name": "stdout",
     "output_type": "stream",
     "text": [
      "q: 110\n"
     ]
    },
    {
     "name": "stderr",
     "output_type": "stream",
     "text": []
    },
    {
     "name": "stdout",
     "output_type": "stream",
     "text": [
      "q: 120\n"
     ]
    },
    {
     "name": "stderr",
     "output_type": "stream",
     "text": []
    },
    {
     "name": "stdout",
     "output_type": "stream",
     "text": [
      "q: 130\n"
     ]
    },
    {
     "name": "stderr",
     "output_type": "stream",
     "text": []
    },
    {
     "name": "stdout",
     "output_type": "stream",
     "text": [
      "q: 140\n"
     ]
    },
    {
     "name": "stderr",
     "output_type": "stream",
     "text": []
    },
    {
     "name": "stdout",
     "output_type": "stream",
     "text": [
      "q: 150\n"
     ]
    },
    {
     "name": "stderr",
     "output_type": "stream",
     "text": []
    },
    {
     "name": "stdout",
     "output_type": "stream",
     "text": [
      "q: 160\n"
     ]
    },
    {
     "name": "stderr",
     "output_type": "stream",
     "text": []
    },
    {
     "name": "stdout",
     "output_type": "stream",
     "text": [
      "q: 170\n"
     ]
    },
    {
     "name": "stderr",
     "output_type": "stream",
     "text": []
    },
    {
     "name": "stdout",
     "output_type": "stream",
     "text": [
      "q: 180\n"
     ]
    },
    {
     "name": "stderr",
     "output_type": "stream",
     "text": []
    },
    {
     "name": "stdout",
     "output_type": "stream",
     "text": [
      "q: 190\n"
     ]
    },
    {
     "name": "stderr",
     "output_type": "stream",
     "text": []
    },
    {
     "name": "stdout",
     "output_type": "stream",
     "text": [
      "q: 200\n"
     ]
    },
    {
     "name": "stderr",
     "output_type": "stream",
     "text": []
    },
    {
     "name": "stdout",
     "output_type": "stream",
     "text": [
      "q: 210\n"
     ]
    },
    {
     "name": "stderr",
     "output_type": "stream",
     "text": []
    },
    {
     "name": "stdout",
     "output_type": "stream",
     "text": [
      "q: 220\n"
     ]
    },
    {
     "name": "stderr",
     "output_type": "stream",
     "text": []
    },
    {
     "name": "stdout",
     "output_type": "stream",
     "text": [
      "q: 230\n"
     ]
    },
    {
     "name": "stderr",
     "output_type": "stream",
     "text": []
    },
    {
     "name": "stdout",
     "output_type": "stream",
     "text": [
      "q: 240\n"
     ]
    },
    {
     "name": "stderr",
     "output_type": "stream",
     "text": []
    },
    {
     "name": "stdout",
     "output_type": "stream",
     "text": [
      "q: 250\n"
     ]
    },
    {
     "name": "stderr",
     "output_type": "stream",
     "text": []
    },
    {
     "name": "stdout",
     "output_type": "stream",
     "text": [
      "q: 260\n"
     ]
    },
    {
     "name": "stderr",
     "output_type": "stream",
     "text": []
    },
    {
     "name": "stdout",
     "output_type": "stream",
     "text": [
      "q: 270\n"
     ]
    },
    {
     "name": "stderr",
     "output_type": "stream",
     "text": []
    },
    {
     "name": "stdout",
     "output_type": "stream",
     "text": [
      "q: 280\n"
     ]
    },
    {
     "name": "stderr",
     "output_type": "stream",
     "text": []
    },
    {
     "name": "stdout",
     "output_type": "stream",
     "text": [
      "q: 290\n"
     ]
    },
    {
     "name": "stderr",
     "output_type": "stream",
     "text": []
    },
    {
     "name": "stdout",
     "output_type": "stream",
     "text": [
      "q: 300\n"
     ]
    },
    {
     "name": "stderr",
     "output_type": "stream",
     "text": []
    },
    {
     "name": "stdout",
     "output_type": "stream",
     "text": [
      "q: 310\n"
     ]
    },
    {
     "name": "stderr",
     "output_type": "stream",
     "text": []
    },
    {
     "name": "stdout",
     "output_type": "stream",
     "text": [
      "q: 320\n"
     ]
    },
    {
     "name": "stderr",
     "output_type": "stream",
     "text": []
    },
    {
     "name": "stdout",
     "output_type": "stream",
     "text": [
      "q: 330\n"
     ]
    },
    {
     "name": "stderr",
     "output_type": "stream",
     "text": []
    },
    {
     "name": "stdout",
     "output_type": "stream",
     "text": [
      "q: 340\n"
     ]
    },
    {
     "name": "stderr",
     "output_type": "stream",
     "text": []
    },
    {
     "name": "stdout",
     "output_type": "stream",
     "text": [
      "q: 350\n"
     ]
    },
    {
     "name": "stderr",
     "output_type": "stream",
     "text": []
    },
    {
     "name": "stdout",
     "output_type": "stream",
     "text": [
      "q: 360\n"
     ]
    },
    {
     "name": "stderr",
     "output_type": "stream",
     "text": []
    },
    {
     "name": "stdout",
     "output_type": "stream",
     "text": [
      "q: 370\n"
     ]
    },
    {
     "name": "stderr",
     "output_type": "stream",
     "text": []
    },
    {
     "name": "stdout",
     "output_type": "stream",
     "text": [
      "q: 380\n"
     ]
    },
    {
     "name": "stderr",
     "output_type": "stream",
     "text": []
    },
    {
     "name": "stdout",
     "output_type": "stream",
     "text": [
      "q: 390\n"
     ]
    },
    {
     "name": "stderr",
     "output_type": "stream",
     "text": []
    },
    {
     "name": "stdout",
     "output_type": "stream",
     "text": [
      "q: 400\n"
     ]
    },
    {
     "name": "stderr",
     "output_type": "stream",
     "text": []
    },
    {
     "name": "stdout",
     "output_type": "stream",
     "text": [
      "q: 410\n"
     ]
    },
    {
     "name": "stderr",
     "output_type": "stream",
     "text": []
    },
    {
     "name": "stdout",
     "output_type": "stream",
     "text": [
      "q: 420\n"
     ]
    },
    {
     "name": "stderr",
     "output_type": "stream",
     "text": []
    },
    {
     "name": "stdout",
     "output_type": "stream",
     "text": [
      "q: 430\n"
     ]
    },
    {
     "name": "stderr",
     "output_type": "stream",
     "text": []
    },
    {
     "name": "stdout",
     "output_type": "stream",
     "text": [
      "q: 440\n"
     ]
    },
    {
     "name": "stderr",
     "output_type": "stream",
     "text": []
    },
    {
     "name": "stdout",
     "output_type": "stream",
     "text": [
      "q: 450\n"
     ]
    },
    {
     "name": "stderr",
     "output_type": "stream",
     "text": []
    },
    {
     "name": "stdout",
     "output_type": "stream",
     "text": [
      "q: 460\n"
     ]
    },
    {
     "name": "stderr",
     "output_type": "stream",
     "text": []
    },
    {
     "name": "stdout",
     "output_type": "stream",
     "text": [
      "q: 470\n"
     ]
    },
    {
     "name": "stderr",
     "output_type": "stream",
     "text": []
    },
    {
     "name": "stdout",
     "output_type": "stream",
     "text": [
      "q: 480\n"
     ]
    },
    {
     "name": "stderr",
     "output_type": "stream",
     "text": []
    },
    {
     "name": "stdout",
     "output_type": "stream",
     "text": [
      "q: 490\n"
     ]
    },
    {
     "name": "stderr",
     "output_type": "stream",
     "text": [
      "100%|██████████| 500/500 [46:07<00:00,  5.53s/it]"
     ]
    },
    {
     "name": "stdout",
     "output_type": "stream",
     "text": [
      "q: 500\n"
     ]
    },
    {
     "name": "stderr",
     "output_type": "stream",
     "text": [
      "\n"
     ]
    }
   ],
   "source": [
    "def generate_queries(docs: List[str], ids: List[str], n: int=100 ):\n",
    "    questions = []\n",
    "    relevances = []\n",
    "    pbar = tqdm(total=n)\n",
    "    while len(questions) < n:\n",
    "        # 1. randomly draw a piece of text and relevance id\n",
    "        r = random.randint(0, len(docs) - 1)\n",
    "        text, label = docs[r], ids[r]\n",
    "\n",
    "        # 2. generate queries and assign and relevance id\n",
    "        generated_qs = [chain.run(input=text).question]\n",
    "        questions.extend(generated_qs)\n",
    "        relevances.extend([[(label, 1)] for _ in generated_qs])\n",
    "        pbar.update(len(generated_qs))\n",
    "        if len(questions) % 10 == 0:\n",
    "            print(f\"q: {len(questions)}\")\n",
    "    return questions[:n], relevances[:n]\n",
    "\n",
    "\n",
    "chain = create_structured_output_chain(Questions, llm, prompt, verbose=False)\n",
    "questions, relevances = generate_queries(docs, ids, n=500)"
   ]
  },
  {
   "cell_type": "code",
   "execution_count": 27,
   "metadata": {},
   "outputs": [],
   "source": [
    "train_questions, train_relevances = questions[:300], relevances[:300]\n",
    "test_questions, test_relevances = questions[300:], relevances[300:]"
   ]
  },
  {
   "cell_type": "code",
   "execution_count": 28,
   "metadata": {},
   "outputs": [
    {
     "name": "stdout",
     "output_type": "stream",
     "text": [
      "300 200\n"
     ]
    }
   ],
   "source": [
    "print(len(train_questions), len(test_questions))"
   ]
  },
  {
   "cell_type": "code",
   "execution_count": 29,
   "metadata": {},
   "outputs": [
    {
     "name": "stdout",
     "output_type": "stream",
     "text": [
      "Starting DeepMemory training job\n",
      "Your Deep Lake dataset has been successfully created!\n"
     ]
    },
    {
     "name": "stderr",
     "output_type": "stream",
     "text": []
    },
    {
     "name": "stdout",
     "output_type": "stream",
     "text": [
      "Preparing training data for deepmemory:\n"
     ]
    },
    {
     "name": "stderr",
     "output_type": "stream",
     "text": [
      "Creating 300 embeddings in 1 batches of size 300:: 100%|██████████| 1/1 [00:06<00:00,  6.07s/it]\n"
     ]
    },
    {
     "name": "stdout",
     "output_type": "stream",
     "text": [
      "DeepMemory training job started. Job ID: 656f8339ea392f219a119b0b\n"
     ]
    }
   ],
   "source": [
    "job_id = db.vectorstore.deep_memory.train(\n",
    "    queries=train_questions,\n",
    "    relevance=train_relevances,\n",
    ")"
   ]
  },
  {
   "cell_type": "code",
   "execution_count": 43,
   "metadata": {},
   "outputs": [
    {
     "name": "stdout",
     "output_type": "stream",
     "text": [
      "This dataset can be visualized in Jupyter Notebook by ds.visualize() or at https://app.activeloop.ai/siddartha10/manufacturing_CSI\n",
      "--------------------------------------------------------------\n",
      "|                  656f8339ea392f219a119b0b                  |\n",
      "--------------------------------------------------------------\n",
      "| status                     | completed                     |\n",
      "--------------------------------------------------------------\n",
      "| progress                   | eta: 0.9 seconds              |\n",
      "|                            | recall@10: 96.67% (+15.00%)   |\n",
      "--------------------------------------------------------------\n",
      "| results                    | recall@10: 96.67% (+15.00%)   |\n",
      "--------------------------------------------------------------\n",
      "\n",
      "\n"
     ]
    }
   ],
   "source": [
    "db.vectorstore.deep_memory.status(\"656f8339ea392f219a119b0b\")"
   ]
  },
  {
   "cell_type": "code",
   "execution_count": 44,
   "metadata": {},
   "outputs": [
    {
     "name": "stdout",
     "output_type": "stream",
     "text": [
      "Embedding queries took 2.03 seconds\n",
      "---- Evaluating without Deep Memory ---- \n",
      "Recall@1:\t  60.0%\n",
      "Recall@3:\t  72.5%\n",
      "Recall@5:\t  80.5%\n",
      "Recall@10:\t  88.0%\n",
      "Recall@50:\t  99.5%\n",
      "Recall@100:\t  99.5%\n",
      "---- Evaluating with Deep Memory ---- \n",
      "Recall@1:\t  76.5%\n",
      "Recall@3:\t  82.0%\n",
      "Recall@5:\t  88.5%\n",
      "Recall@10:\t  92.5%\n",
      "Recall@50:\t  99.0%\n",
      "Recall@100:\t  100.0%\n"
     ]
    }
   ],
   "source": [
    "recall = db.vectorstore.deep_memory.evaluate(\n",
    "    queries=test_questions,\n",
    "    relevance=test_relevances,\n",
    ")"
   ]
  },
  {
   "cell_type": "code",
   "execution_count": 80,
   "metadata": {},
   "outputs": [
    {
     "name": "stdout",
     "output_type": "stream",
     "text": [
      "Based on the provided context, the different types of stations mentioned in the CSM Operations Manual are:\n",
      "\n",
      "1. Station 1: Load station\n",
      "2. Station 2: Dry Fill station\n",
      "3. Station 3: Wet Fill station\n",
      "4. Station 4: Stoppering station\n",
      "5. Station 5: Wet Fill station\n",
      "6. Station 6: Stoppering station\n",
      "7. Station 7: Inspection station\n",
      "8. Station 8: Labeling station\n",
      "9. Station 9: Unload station\n",
      "\n",
      "These stations are part of the vial filling system and each station has its own specific operation and functionality.\n"
     ]
    }
   ],
   "source": [
    "retriver = db.as_retriever()\n",
    "retriver.search_kwargs[\"deep_memory\"] = True\n",
    "retriver.search_kwargs[\"k\"] = 10\n",
    "\n",
    "query = \"what are the different types of stations?\"\n",
    "qa = RetrievalQA.from_chain_type(\n",
    "    llm=ChatOpenAI(model=\"gpt-3.5-turbo\",temperature=0), chain_type=\"stuff\", retriever=retriver\n",
    ")\n",
    "print(qa.run(query))"
   ]
  },
  {
   "cell_type": "code",
   "execution_count": 109,
   "metadata": {},
   "outputs": [
    {
     "data": {
      "text/plain": [
       "'MagneMotion is an independent cart transport system that utilizes linear motor technology and magnetic carriers to transport items, such as vials, throughout a specific area or system. It consists of nodes and paths that allow the transport carriers to move and stop at different process stations or bypass paths. The MagneMotion system is controlled by a node controller and can be manipulated and monitored through HMI screens.'"
      ]
     },
     "execution_count": 109,
     "metadata": {},
     "output_type": "execute_result"
    }
   ],
   "source": [
    "retriver = db.as_retriever()\n",
    "retriver.search_kwargs[\"deep_memory\"] = True\n",
    "retriver.search_kwargs[\"k\"] = 10\n",
    "\n",
    "query = \"what is a magne motion?\"\n",
    "qa = RetrievalQA.from_chain_type(\n",
    "    llm=ChatOpenAI(model=\"gpt-3.5-turbo\",temperature=0), chain_type=\"stuff\", retriever=retriver\n",
    ")\n",
    "qa.run(query)"
   ]
  },
  {
   "cell_type": "code",
   "execution_count": 110,
   "metadata": {},
   "outputs": [
    {
     "data": {
      "text/plain": [
       "'I apologize for the mistake. I will refer to it as CSI from now on. Thank you for pointing that out.'"
      ]
     },
     "execution_count": 110,
     "metadata": {},
     "output_type": "execute_result"
    }
   ],
   "source": [
    "query = \"it is not CSM please refer to it as CSI from next time?\"\n",
    "qa = RetrievalQA.from_chain_type(\n",
    "    llm=ChatOpenAI(model=\"gpt-3.5-turbo\",temperature=0), chain_type=\"stuff\", retriever=retriver\n",
    ")\n",
    "qa.run(query)"
   ]
  },
  {
   "cell_type": "code",
   "execution_count": 111,
   "metadata": {},
   "outputs": [
    {
     "data": {
      "text/plain": [
       "\"The CSM Operations Manual does not provide specific instructions on how to turn the test bed on. It mainly focuses on the HMI screens and operations. It is recommended to refer to the manufacturer's documentation or contact the technical support for the test bed to get the specific instructions on how to turn it on.\""
      ]
     },
     "execution_count": 111,
     "metadata": {},
     "output_type": "execute_result"
    }
   ],
   "source": [
    "query = \"How to turn the test bed on?\"\n",
    "qa = RetrievalQA.from_chain_type(\n",
    "    llm=ChatOpenAI(model=\"gpt-3.5-turbo\",temperature=0), chain_type=\"stuff\", retriever=retriver\n",
    ")\n",
    "qa.run(query)"
   ]
  },
  {
   "cell_type": "code",
   "execution_count": 112,
   "metadata": {},
   "outputs": [
    {
     "data": {
      "text/plain": [
       "'I apologize for the confusion. The correct acronym is CSI, not CSM.'"
      ]
     },
     "execution_count": 112,
     "metadata": {},
     "output_type": "execute_result"
    }
   ],
   "source": [
    "query = \"Again you are it as CSM no it is CSI?\"\n",
    "qa = RetrievalQA.from_chain_type(\n",
    "    llm=ChatOpenAI(model=\"gpt-3.5-turbo\",temperature=0), chain_type=\"stuff\", retriever=retriver\n",
    ")\n",
    "qa.run(query)"
   ]
  },
  {
   "cell_type": "code",
   "execution_count": 113,
   "metadata": {},
   "outputs": [
    {
     "data": {
      "text/plain": [
       "'The CSM Operations Manual outlines several safety measures to protect workers. Here are some of the key safety precautions:\\n\\n1. Follow Safety Instructions: Workers are instructed to carefully read all safety messages in the manual and on the machine safety signs. They are also advised to learn how to operate the machine and use controls properly.\\n\\n2. Safety Precautions: Workers are reminded to always operate the machine with all guards in place and all safety devices functioning properly. They should avoid wearing loose-fitting clothing and jewelry while working near moving components. They should also keep the work area clean and free of obstacles that could cause them to slip or trip.\\n\\n3. Lockout/Tagout (LOTO): Workers are required to ensure that the correct LOTO is in place before performing any cleaning, repair, or maintenance routines on the machine. This is to prevent the unexpected startup of the machine and protect workers from hazardous energy.\\n\\n4. Hazardous Energy Procedures: Workers are advised not to climb over, on, or into the robot or conveyor and processing stations without following proper control of hazardous energy procedures. This is to prevent accidents and injuries.\\n\\n5. Fixed Guarding and Safety System: The assembly cell is provided with fixed guarding and a category 3 performance level safety system to prevent operators from coming into contact with hazards. However, residual risks still exist, such as electrical shock hazards, pinch points, sharp edges, and chemical/fluid exposure. Workers are advised to be aware of these risks and take necessary precautions.\\n\\nThese are just a few examples of the safety measures outlined in the manual. It is important for workers to be safety conscious, properly trained, and follow all safety instructions to maintain a safe work environment.'"
      ]
     },
     "execution_count": 113,
     "metadata": {},
     "output_type": "execute_result"
    }
   ],
   "source": [
    "query = \"What safety measures are in place to protect workers?\"\n",
    "qa = RetrievalQA.from_chain_type(\n",
    "    llm=ChatOpenAI(model=\"gpt-3.5-turbo\",temperature=0), chain_type=\"stuff\", retriever=retriver\n",
    ")\n",
    "qa.run(query)"
   ]
  },
  {
   "cell_type": "code",
   "execution_count": 120,
   "metadata": {},
   "outputs": [
    {
     "data": {
      "text/plain": [
       "\"I'm sorry, but I couldn't find any information about the Dry Fill station in the provided context.\""
      ]
     },
     "execution_count": 120,
     "metadata": {},
     "output_type": "execute_result"
    }
   ],
   "source": [
    "query = \"Explain me about the Dry Fill station\"\n",
    "qa = RetrievalQA.from_chain_type(\n",
    "    llm=ChatOpenAI(model=\"gpt-3.5-turbo\",temperature=0), chain_type=\"stuff\", retriever=retriver\n",
    ")\n",
    "qa.run(query)"
   ]
  },
  {
   "cell_type": "code",
   "execution_count": 122,
   "metadata": {},
   "outputs": [
    {
     "data": {
      "text/plain": [
       "\"A wet fill station is a part of a system or process that is used to dispense specified quantities of fluids into a container, such as a vial. It typically consists of one or more nozzles that dispense the fluids sequentially or simultaneously, depending on the configuration of the station. The liquid fill parameters and resulting data are passed between the system's programmable logic controller (PLC) and the fluid delivery system's PLC. The station receives process parameters from the system's part tracking and traceability logic and dispenses the appropriate liquids in the appropriate order into the container. After completion, the station updates the system's part tracking and traceability database and sends the container to the next processing station.\""
      ]
     },
     "execution_count": 122,
     "metadata": {},
     "output_type": "execute_result"
    }
   ],
   "source": [
    "query = \"what is wet Fill station\"\n",
    "qa = RetrievalQA.from_chain_type(\n",
    "    llm=ChatOpenAI(model=\"gpt-3.5-turbo\",temperature=0), chain_type=\"stuff\", retriever=retriver\n",
    ")\n",
    "qa.run(query)"
   ]
  },
  {
   "cell_type": "code",
   "execution_count": 123,
   "metadata": {},
   "outputs": [
    {
     "name": "stdout",
     "output_type": "stream",
     "text": [
      "Based on the provided context, there is no mention of \"dry fill stations\" in the given information. Therefore, it is not possible to provide a specific answer to your question.\n"
     ]
    }
   ],
   "source": [
    "query = \"what is dry fill stations?\"\n",
    "qa = RetrievalQA.from_chain_type(\n",
    "    llm=ChatOpenAI(model=\"gpt-3.5-turbo\",temperature=0), chain_type=\"stuff\", retriever=retriver\n",
    ")\n",
    "print(qa.run(query))"
   ]
  },
  {
   "cell_type": "code",
   "execution_count": 129,
   "metadata": {},
   "outputs": [
    {
     "name": "stdout",
     "output_type": "stream",
     "text": [
      "Dry Cycle Mode is a mode of operation in which the system emulates an auto sequence without any parts present. It is primarily used for maintenance or troubleshooting purposes. In Dry Cycle Mode, the system ignores part presence indicators and allows the Auto Sequence to function as if parts were present. Each time the system is started in Dry Cycle Mode, the Dry Cycle count is reset.\n"
     ]
    }
   ],
   "source": [
    "query = \"What is Dry cycle mode?\"\n",
    "qa = RetrievalQA.from_chain_type(\n",
    "    llm=ChatOpenAI(model=\"gpt-3.5-turbo\",temperature=0), chain_type=\"stuff\", retriever=retriver\n",
    ")\n",
    "print(qa.run(query))"
   ]
  },
  {
   "cell_type": "code",
   "execution_count": 130,
   "metadata": {},
   "outputs": [
    {
     "name": "stdout",
     "output_type": "stream",
     "text": [
      "Robot screens are a part of the HMI (Human Machine Interface) system used to view and control the functions of a robot. These screens allow operators to manipulate the robot's functions, I/O (Input/Output), and parameters. They also provide manual control of the robot, including operations such as pick, place, and go to operations, as well as control of the robot's gripper open and close functions.\n",
      "\n",
      "The robot screens display all I/O and interface signals, such as digital I/O, Universal I/O, and Group I/O, to aid in maintenance and troubleshooting efforts. It is important to note that actions that may cause damage to the equipment or product should be interlocked through the PLC (Programmable Logic Controller) program or not allowed to be selected via the HMI. Modification of the HMI operator through \"visibility\" options is the preferred method.\n",
      "\n",
      "The specific robot screens and their uses may vary depending on the type of robot being used. For example, the LR-Mate Robot Screen may include features such as displaying current faults, manual function operators and indication of state, end of arm tooling manual function and status indicators, robot UOP (User Operation Panel) commands and indicators, robot speed control, and digital input/output signals to/from the process PLC (Programmable Logic Controller).\n",
      "\n",
      "Similarly, other types of robots like M1iA, CR7, and Scara also have their own specific robot screens with similar functionalities but tailored to their respective robot models.\n",
      "\n",
      "Overall, robot screens provide operators with a user-friendly interface to monitor and control the robot's functions, ensuring efficient and safe operation.\n"
     ]
    }
   ],
   "source": [
    "query = \"Explain me about Robot screens?\"\n",
    "qa = RetrievalQA.from_chain_type(\n",
    "    llm=ChatOpenAI(model=\"gpt-3.5-turbo\",temperature=0), chain_type=\"stuff\", retriever=retriver\n",
    ")\n",
    "print(qa.run(query))"
   ]
  },
  {
   "cell_type": "code",
   "execution_count": 134,
   "metadata": {},
   "outputs": [
    {
     "name": "stdout",
     "output_type": "stream",
     "text": [
      "According to the CSM Operations Manual, red flashing lights indicate that the system is faulted.\n"
     ]
    }
   ],
   "source": [
    "query = \"What does it mean by red flashing lights?\"\n",
    "qa = RetrievalQA.from_chain_type(\n",
    "    llm=ChatOpenAI(model=\"gpt-3.5-turbo\",temperature=0), chain_type=\"stuff\", retriever=retriver\n",
    ")\n",
    "print(qa.run(query))"
   ]
  },
  {
   "cell_type": "code",
   "execution_count": 135,
   "metadata": {},
   "outputs": [
    {
     "name": "stdout",
     "output_type": "stream",
     "text": [
      "The factory tests vials for quality through a vial inspection station and a vision inspection station. \n",
      "\n",
      "The vial inspection station inspects the vials for damage or cleanliness by rotating the vial 360 degrees across three different sections of the vial. It also scans and associates the vial's 2D barcode data to the scheduled production job. If a vial passes the inspection, it is loaded onto the MagneMotion transport system. If it fails the inspection, it is rejected to the reject parts tray.\n",
      "\n",
      "The vision inspection station verifies the contents of each vial it inspects. For liquid fill vials, the camera program evaluates the vial and returns RGB values of the inspection area. The resultant data is compared against process parameters to determine if the vial has the correct color. For\n"
     ]
    }
   ],
   "source": [
    "query = \"How does the factory test vials for quality?\"\n",
    "qa = RetrievalQA.from_chain_type(\n",
    "    llm=ChatOpenAI(model=\"gpt-3.5-turbo\",temperature=0), chain_type=\"stuff\", retriever=retriver\n",
    ")\n",
    "print(qa.run(query))"
   ]
  },
  {
   "cell_type": "code",
   "execution_count": 136,
   "metadata": {},
   "outputs": [
    {
     "name": "stdout",
     "output_type": "stream",
     "text": [
      "The CSI test bed is a system used for testing and demonstrating various manufacturing processes and technologies\n",
      "It consists of different components and stations that simulate different stages of a manufacturing process\n",
      "The test bed is designed to be transported and assembled at different locations for testing purposes.\n",
      "\n",
      "The test bed includes features such as the MagneMotion Independent Cart Transport System, which uses linear motor technology and magnetic carriers to transport vials throughout the test bed\n",
      "It also includes stations like the Vision Inspection Station, which is used to verify the contents of each vial, and the Inspect/Repair Station, where products can be staged for inspection and possible repair.\n",
      "\n",
      "The test bed is equipped with safety systems, including emergency stop buttons, area scanners, light curtains, and door interlocks, to ensure the safety of personnel working with the system\n",
      "It also has a dedicated Allen Bradley L8 series GuardLogix programmable safety controller to monitor and control the safety of the entire system.\n",
      "\n",
      "Overall, the CSI test bed is a versatile system that allows for testing and development of manufacturing processes and technologies in a controlled environment.\n"
     ]
    }
   ],
   "source": [
    "query = \"explain me about CSI test bed?\"\n",
    "qa = RetrievalQA.from_chain_type(\n",
    "    llm=ChatOpenAI(model=\"gpt-3.5-turbo\",temperature=0), chain_type=\"stuff\", retriever=retriver\n",
    ")\n",
    "output = qa.run(query)\n",
    "sentences = output.split('. ')\n",
    "formatted_output = '\\n'.join(sentences)\n",
    "print(formatted_output)"
   ]
  },
  {
   "cell_type": "code",
   "execution_count": 161,
   "metadata": {},
   "outputs": [],
   "source": [
    "query = \"Explain different types of methods that prevent carts from crashing?\"\n",
    "qa = RetrievalQA.from_chain_type(\n",
    "    llm=llm, chain_type=\"stuff\", retriever=retriver\n",
    ")\n",
    "output = qa.run(query)\n"
   ]
  },
  {
   "cell_type": "code",
   "execution_count": 162,
   "metadata": {},
   "outputs": [
    {
     "name": "stdout",
     "output_type": "stream",
     "text": [
      "The MagneMotion Independent Cart Transport system is equipped with different modes to prevent carts from crashing. These modes include:\n",
      "\n",
      "1. Manual Mode: In this mode, system operators manually control the movement of the carts, following a regimented procedure to avoid damage and spills occurrences. The system is designed to take automatic measures to protect itself from moving into objects, such as crashing, while the operators are maneuvering the carts.\n",
      "\n",
      "2. Semi-Automatic Mode: In this mode, kinetic energy is present, and a series of system operators perform the task that the rail robot would perform in a safe and secure manner. Operators stationed throughout the system physically pick and place vials from trays to vehicles and vice-versa without using the rail robot. The system is designed to require pushbutton or HMI stations in specific areas.\n",
      "\n",
      "3. Sequential Step Mode: In this mode, kinetic energy is present, and system operators are capable of taking a single vial from its source tray through the entire cell’s processing in a safe and secure manner. This mode allows operators to visualize each decision made by the automation solution to process a vial.\n",
      "\n",
      "4. Dry Cycling Mode: In this mode, kinetic energy is present, and vial processing is similar to automatic mode, but no actual work is performed on the vials. This mode puts the vials through the paces but performs no work and functions in a safe and secure manner.\n",
      "\n",
      "5. Automatic Mode: In this mode, kinetic energy is present, and the automation system processes vials through the entire process as selected on the HMI, just as a production-ready vial filling system would. System operators are required to interact with the VFC cell at specific process areas to keep the system operating.\n",
      "\n",
      "These different modes are designed to ensure the safe and secure movement of the carts within the MagneMotion Independent Cart Transport system.\n"
     ]
    }
   ],
   "source": [
    "print(output)"
   ]
  },
  {
   "cell_type": "code",
   "execution_count": 171,
   "metadata": {},
   "outputs": [
    {
     "name": "stdout",
     "output_type": "stream",
     "text": [
      "I don't know.\n"
     ]
    }
   ],
   "source": [
    "query = \"How to factorial of a number?\"\n",
    "qa = RetrievalQA.from_chain_type(\n",
    "    llm=llm, chain_type=\"stuff\", retriever=retriver\n",
    ")\n",
    "output = qa.run(query)\n",
    "sentences = output.split('. ')\n",
    "formatted_output = '\\n'.join(sentences)\n",
    "print(formatted_output)\n"
   ]
  },
  {
   "cell_type": "code",
   "execution_count": 174,
   "metadata": {},
   "outputs": [
    {
     "name": "stdout",
     "output_type": "stream",
     "text": [
      "I don't have enough information to answer your question.\n"
     ]
    }
   ],
   "source": [
    "query = \"Routers explain?\"\n",
    "qa = RetrievalQA.from_chain_type(\n",
    "    llm=llm, chain_type=\"stuff\", retriever=retriver\n",
    ")\n",
    "output = qa.run(query)\n",
    "sentences = output.split('. ')\n",
    "formatted_output = '\\n'.join(sentences)\n",
    "print(formatted_output)\n"
   ]
  },
  {
   "cell_type": "code",
   "execution_count": 178,
   "metadata": {},
   "outputs": [
    {
     "name": "stdout",
     "output_type": "stream",
     "text": [
      "CSI stands for Connected Systems Institute\n",
      "It is a platform at the University of Wisconsin - Milwaukee that uses the latest Industry 4.0 connected advanced manufacturing equipment and techniques to produce vials filled with varying products\n",
      "The platform is used for education and research to further the advancement of a connected enterprise.\n"
     ]
    }
   ],
   "source": [
    "query = \"what is CSI?\"\n",
    "qa = RetrievalQA.from_chain_type(\n",
    "    llm=llm, chain_type=\"stuff\", retriever=retriver\n",
    ")\n",
    "output = qa.run(query)\n",
    "sentences = output.split('. ')\n",
    "formatted_output = '\\n'.join(sentences)\n",
    "print(formatted_output)\n"
   ]
  },
  {
   "cell_type": "code",
   "execution_count": 179,
   "metadata": {},
   "outputs": [
    {
     "name": "stdout",
     "output_type": "stream",
     "text": [
      "The vials are tracked using a barcode/QR label system\n",
      "Each vial is labeled with a barcode or QR code before use in the VFC\n",
      "The label printer supplied with the VFC ensures full track-and-trace and serialization capability throughout the system\n",
      "The vials are tied to a specific MagneMotion puck, and robotic manipulation during vial loading compensates for inconsistent label placement and varying vial orientation within each tray\n",
      "A Teledyne Dalsa Imaging system is used for this application.\n"
     ]
    }
   ],
   "source": [
    "query = \"How do we track the vials?\"\n",
    "qa = RetrievalQA.from_chain_type(\n",
    "    llm=llm, chain_type=\"stuff\", retriever=retriver\n",
    ")\n",
    "output = qa.run(query)\n",
    "sentences = output.split('. ')\n",
    "formatted_output = '\\n'.join(sentences)\n",
    "print(formatted_output)\n"
   ]
  },
  {
   "cell_type": "code",
   "execution_count": 181,
   "metadata": {},
   "outputs": [
    {
     "name": "stdout",
     "output_type": "stream",
     "text": [
      "I don't know.\n"
     ]
    }
   ],
   "source": [
    "query = \"explain me about newton's 2nd law?\"\n",
    "qa = RetrievalQA.from_chain_type(\n",
    "    llm=llm, chain_type=\"stuff\", retriever=retriver\n",
    ")\n",
    "output = qa.run(query)\n",
    "sentences = output.split('. ')\n",
    "formatted_output = '\\n'.join(sentences)\n",
    "print(formatted_output)"
   ]
  },
  {
   "cell_type": "code",
   "execution_count": null,
   "metadata": {},
   "outputs": [],
   "source": []
  }
 ],
 "metadata": {
  "kernelspec": {
   "display_name": "Python 3",
   "language": "python",
   "name": "python3"
  },
  "language_info": {
   "codemirror_mode": {
    "name": "ipython",
    "version": 3
   },
   "file_extension": ".py",
   "mimetype": "text/x-python",
   "name": "python",
   "nbconvert_exporter": "python",
   "pygments_lexer": "ipython3",
   "version": "3.10.11"
  }
 },
 "nbformat": 4,
 "nbformat_minor": 2
}
